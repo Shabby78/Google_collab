{
  "nbformat": 4,
  "nbformat_minor": 0,
  "metadata": {
    "colab": {
      "provenance": [],
      "gpuType": "T4",
      "authorship_tag": "ABX9TyMzTIh/WFZ8rpPjt8xjVqq1",
      "include_colab_link": true
    },
    "kernelspec": {
      "name": "python3",
      "display_name": "Python 3"
    },
    "language_info": {
      "name": "python"
    },
    "accelerator": "GPU"
  },
  "cells": [
    {
      "cell_type": "markdown",
      "metadata": {
        "id": "view-in-github",
        "colab_type": "text"
      },
      "source": [
        "<a href=\"https://colab.research.google.com/github/Shabby78/Google_collab/blob/main/00_tensorflow_fundamentals.ipynb\" target=\"_parent\"><img src=\"https://colab.research.google.com/assets/colab-badge.svg\" alt=\"Open In Colab\"/></a>"
      ]
    },
    {
      "cell_type": "markdown",
      "source": [
        "# In this n/b, we are going to cover some of the most important fundamentals concepts of tensors using tensorflow\n",
        "\n",
        "More specifically , we are going to cover:\n",
        "* Intro to tensors\n",
        "* Getting information from tensors\n",
        "* Manipulating the tensors\n",
        "* Tensor & Numpy\n",
        "* Using @tf.finction ( a way to speed up regular python fns)"
      ],
      "metadata": {
        "id": "oFeYVaQcAN_z"
      }
    },
    {
      "cell_type": "markdown",
      "source": [
        "## Introduction to Tensors\n"
      ],
      "metadata": {
        "id": "iheY-tHXIkuM"
      }
    },
    {
      "cell_type": "markdown",
      "source": [
        "#### Creating tensors with 'tf.constant'"
      ],
      "metadata": {
        "id": "6XU-Awd8Vq2Q"
      }
    },
    {
      "cell_type": "code",
      "source": [
        " # Import Tensorflow\n",
        "import tensorflow as tf\n",
        "print(tf.__version__)"
      ],
      "metadata": {
        "colab": {
          "base_uri": "https://localhost:8080/"
        },
        "id": "vrxK-4dpIgOK",
        "outputId": "d99f8a27-a3fb-4e6d-d5f5-a3a1e97534e4"
      },
      "execution_count": null,
      "outputs": [
        {
          "output_type": "stream",
          "name": "stdout",
          "text": [
            "2.17.0\n"
          ]
        }
      ]
    },
    {
      "cell_type": "markdown",
      "source": [
        "**Scalar**\n",
        "A single number"
      ],
      "metadata": {
        "id": "FSXa9gA1Agw5"
      }
    },
    {
      "cell_type": "code",
      "source": [
        "# Create Tensors  with tf.constant()- SCALAR\n",
        "scalar=tf.constant(7)\n",
        "scalar"
      ],
      "metadata": {
        "colab": {
          "base_uri": "https://localhost:8080/"
        },
        "id": "OgDzv_Zh-E3R",
        "outputId": "83796cca-81a6-4e96-8875-d9791467e016"
      },
      "execution_count": null,
      "outputs": [
        {
          "output_type": "execute_result",
          "data": {
            "text/plain": [
              "<tf.Tensor: shape=(), dtype=int32, numpy=7>"
            ]
          },
          "metadata": {},
          "execution_count": 2
        }
      ]
    },
    {
      "cell_type": "code",
      "source": [
        "# Create the number of dimensions of a tensor (ndim stands for number of dimensions)\n",
        "scalar.ndim"
      ],
      "metadata": {
        "colab": {
          "base_uri": "https://localhost:8080/"
        },
        "id": "ct4tPR9t-qT2",
        "outputId": "35b6562a-fdcb-451d-a9f8-7865619eb639"
      },
      "execution_count": null,
      "outputs": [
        {
          "output_type": "execute_result",
          "data": {
            "text/plain": [
              "0"
            ]
          },
          "metadata": {},
          "execution_count": 3
        }
      ]
    },
    {
      "cell_type": "markdown",
      "source": [
        "**Vector**\n",
        "A number with direction (eg. wind speed and direction)"
      ],
      "metadata": {
        "id": "ce6PTL7fBaRR"
      }
    },
    {
      "cell_type": "code",
      "source": [
        "# Create a Tensor with tf.constant()- VECTOR\n",
        "vector=tf.constant([10,10])\n",
        "vector"
      ],
      "metadata": {
        "colab": {
          "base_uri": "https://localhost:8080/"
        },
        "id": "V9ThOl_oA6P8",
        "outputId": "bfd88b69-2339-47c3-c1bd-340682031a4a"
      },
      "execution_count": null,
      "outputs": [
        {
          "output_type": "execute_result",
          "data": {
            "text/plain": [
              "<tf.Tensor: shape=(2,), dtype=int32, numpy=array([10, 10], dtype=int32)>"
            ]
          },
          "metadata": {},
          "execution_count": 4
        }
      ]
    },
    {
      "cell_type": "code",
      "source": [
        "# Create the number of dimensions of a tensor\n",
        "vector.ndim"
      ],
      "metadata": {
        "colab": {
          "base_uri": "https://localhost:8080/"
        },
        "id": "hGYMj3zuBrVM",
        "outputId": "df666197-a63a-4da9-88f6-df2fb297e986"
      },
      "execution_count": null,
      "outputs": [
        {
          "output_type": "execute_result",
          "data": {
            "text/plain": [
              "1"
            ]
          },
          "metadata": {},
          "execution_count": 5
        }
      ]
    },
    {
      "cell_type": "markdown",
      "source": [
        "**Matrix**:\n",
        "A 2-d array of numbers"
      ],
      "metadata": {
        "id": "LBeZG_sQNnmC"
      }
    },
    {
      "cell_type": "code",
      "source": [
        "# Create a tensor for MATRIX(more than 1 dimension)\n",
        "matrix=tf.constant([[7,8],\n",
        "                   [8,7]])\n",
        "matrix"
      ],
      "metadata": {
        "colab": {
          "base_uri": "https://localhost:8080/"
        },
        "id": "-jAimWAoCEPJ",
        "outputId": "c9e0b7bd-f0a9-4a7b-8b00-eddb74a6306f"
      },
      "execution_count": null,
      "outputs": [
        {
          "output_type": "execute_result",
          "data": {
            "text/plain": [
              "<tf.Tensor: shape=(2, 2), dtype=int32, numpy=\n",
              "array([[7, 8],\n",
              "       [8, 7]], dtype=int32)>"
            ]
          },
          "metadata": {},
          "execution_count": 6
        }
      ]
    },
    {
      "cell_type": "code",
      "source": [
        "# Create a number of dimension of this matrix\n",
        "matrix.ndim"
      ],
      "metadata": {
        "colab": {
          "base_uri": "https://localhost:8080/"
        },
        "id": "N8zCXoDkN0Vu",
        "outputId": "9e5ebac4-ec43-4ed3-8b57-125247e779e5"
      },
      "execution_count": null,
      "outputs": [
        {
          "output_type": "execute_result",
          "data": {
            "text/plain": [
              "2"
            ]
          },
          "metadata": {},
          "execution_count": 7
        }
      ]
    },
    {
      "cell_type": "code",
      "source": [
        "# Create a another matrix\n",
        "another_matrix= tf.constant([[10.,7.],\n",
        "                             [7.,10.],\n",
        "                             [7.,8.]],dtype=tf.float16) # specify the data type with dtype parameter\n",
        "another_matrix"
      ],
      "metadata": {
        "colab": {
          "base_uri": "https://localhost:8080/"
        },
        "id": "CsUQL1srOPVc",
        "outputId": "c906ecec-43d3-4bba-c69b-fad11cf4449c"
      },
      "execution_count": null,
      "outputs": [
        {
          "output_type": "execute_result",
          "data": {
            "text/plain": [
              "<tf.Tensor: shape=(3, 2), dtype=float16, numpy=\n",
              "array([[10.,  7.],\n",
              "       [ 7., 10.],\n",
              "       [ 7.,  8.]], dtype=float16)>"
            ]
          },
          "metadata": {},
          "execution_count": 8
        }
      ]
    },
    {
      "cell_type": "code",
      "source": [
        "# what's the number of dimension of the another_matrix\n",
        "another_matrix.ndim"
      ],
      "metadata": {
        "colab": {
          "base_uri": "https://localhost:8080/"
        },
        "id": "fAmmNIcAPpKq",
        "outputId": "86ae19c8-9954-4433-c129-59e54c13224c"
      },
      "execution_count": null,
      "outputs": [
        {
          "output_type": "execute_result",
          "data": {
            "text/plain": [
              "2"
            ]
          },
          "metadata": {},
          "execution_count": 9
        }
      ]
    },
    {
      "cell_type": "markdown",
      "source": [
        "**Tensors**:\n",
        "This is n-dimensional array of numbers  \n",
        " Where n can be any number , (0-dim tensor is a scalar, 1-d is a vector)\n",
        "\n",
        "\n",
        "\n",
        "\n"
      ],
      "metadata": {
        "id": "yon4FSAsQkTY"
      }
    },
    {
      "cell_type": "code",
      "source": [
        "# Lets create the tensors\n",
        "tensor=tf.constant([[[1,2,3],\n",
        "                     [4,5,6]],\n",
        "                    [[7,8,9],\n",
        "                     [10,11,12]],\n",
        "                    [[13,14,15],\n",
        "                     [16,17,18]]])\n",
        "tensor"
      ],
      "metadata": {
        "colab": {
          "base_uri": "https://localhost:8080/"
        },
        "id": "jF3JKVZRQQp0",
        "outputId": "58ae25ae-ffc9-4c09-d895-cfcd40e8c566"
      },
      "execution_count": null,
      "outputs": [
        {
          "output_type": "execute_result",
          "data": {
            "text/plain": [
              "<tf.Tensor: shape=(3, 2, 3), dtype=int32, numpy=\n",
              "array([[[ 1,  2,  3],\n",
              "        [ 4,  5,  6]],\n",
              "\n",
              "       [[ 7,  8,  9],\n",
              "        [10, 11, 12]],\n",
              "\n",
              "       [[13, 14, 15],\n",
              "        [16, 17, 18]]], dtype=int32)>"
            ]
          },
          "metadata": {},
          "execution_count": 10
        }
      ]
    },
    {
      "cell_type": "code",
      "source": [
        "# dimension of the \"tensor\"\n",
        "tensor.ndim"
      ],
      "metadata": {
        "colab": {
          "base_uri": "https://localhost:8080/"
        },
        "id": "R4axaLkZR59c",
        "outputId": "f6535c8a-37f3-4f05-8842-263eba0eb5d3"
      },
      "execution_count": null,
      "outputs": [
        {
          "output_type": "execute_result",
          "data": {
            "text/plain": [
              "3"
            ]
          },
          "metadata": {},
          "execution_count": 11
        }
      ]
    },
    {
      "cell_type": "markdown",
      "source": [
        "**WHAT I HAVE CREATED SO FAR:**\n",
        " * Scalar: a single  number\n",
        " * vector: a numner with direction (eg, wind speed and direction)\n",
        " * Matrix: a 1-d array of numbers\n",
        " * Tensors: a n-dimensional array of numbers ( can be, 0-d scalar, 1-d vector, n-d somthing)"
      ],
      "metadata": {
        "id": "NJ4h-No6U_vz"
      }
    },
    {
      "cell_type": "markdown",
      "source": [
        "#### Creating tensors with 'tf.variable'"
      ],
      "metadata": {
        "id": "gRzI3OkZB1sH"
      }
    },
    {
      "cell_type": "code",
      "source": [
        "# Create the same tensor with tf.variable() as previous as Vector\n",
        "changeable_tensor=tf.Variable([10,7])\n",
        "unchangeable_tensor=tf.constant([10,7])\n",
        "changeable_tensor, unchangeable_tensor"
      ],
      "metadata": {
        "colab": {
          "base_uri": "https://localhost:8080/"
        },
        "id": "FqyijuNySVcp",
        "outputId": "87f99dd4-8428-46b8-d3de-8f3e12763f11"
      },
      "execution_count": null,
      "outputs": [
        {
          "output_type": "execute_result",
          "data": {
            "text/plain": [
              "(<tf.Variable 'Variable:0' shape=(2,) dtype=int32, numpy=array([10,  7], dtype=int32)>,\n",
              " <tf.Tensor: shape=(2,), dtype=int32, numpy=array([10,  7], dtype=int32)>)"
            ]
          },
          "metadata": {},
          "execution_count": 14
        }
      ]
    },
    {
      "cell_type": "code",
      "source": [
        "# Let's try change one of the elements in our changeable tensor\n",
        "changeable_tensor[0]=7\n",
        "changeable_tensor"
      ],
      "metadata": {
        "colab": {
          "base_uri": "https://localhost:8080/",
          "height": 176
        },
        "id": "SArN68DUCPa7",
        "outputId": "be33c509-55bf-4033-bdbe-1afb1d759de5"
      },
      "execution_count": null,
      "outputs": [
        {
          "output_type": "error",
          "ename": "TypeError",
          "evalue": "'ResourceVariable' object does not support item assignment",
          "traceback": [
            "\u001b[0;31m---------------------------------------------------------------------------\u001b[0m",
            "\u001b[0;31mTypeError\u001b[0m                                 Traceback (most recent call last)",
            "\u001b[0;32m<ipython-input-15-62e06240204b>\u001b[0m in \u001b[0;36m<cell line: 2>\u001b[0;34m()\u001b[0m\n\u001b[1;32m      1\u001b[0m \u001b[0;31m# Let's try change one of the elements in our changeable tensor\u001b[0m\u001b[0;34m\u001b[0m\u001b[0;34m\u001b[0m\u001b[0m\n\u001b[0;32m----> 2\u001b[0;31m \u001b[0mchangeable_tensor\u001b[0m\u001b[0;34m[\u001b[0m\u001b[0;36m0\u001b[0m\u001b[0;34m]\u001b[0m\u001b[0;34m=\u001b[0m\u001b[0;36m7\u001b[0m\u001b[0;34m\u001b[0m\u001b[0;34m\u001b[0m\u001b[0m\n\u001b[0m\u001b[1;32m      3\u001b[0m \u001b[0mchangeable_tensor\u001b[0m\u001b[0;34m\u001b[0m\u001b[0;34m\u001b[0m\u001b[0m\n",
            "\u001b[0;31mTypeError\u001b[0m: 'ResourceVariable' object does not support item assignment"
          ]
        }
      ]
    },
    {
      "cell_type": "code",
      "source": [
        "# How about we try .assign()\n",
        "changeable_tensor[1].assign(7)\n",
        "print(changeable_tensor)"
      ],
      "metadata": {
        "colab": {
          "base_uri": "https://localhost:8080/"
        },
        "id": "28CG2YRPLix-",
        "outputId": "385d8aed-2b4e-4039-bb1b-fb47b3ab28e2"
      },
      "execution_count": null,
      "outputs": [
        {
          "output_type": "stream",
          "name": "stdout",
          "text": [
            "<tf.Variable 'Variable:0' shape=(2,) dtype=int32, numpy=array([10,  7], dtype=int32)>\n"
          ]
        }
      ]
    },
    {
      "cell_type": "code",
      "source": [
        "# Let's try change our unchangeable tensor\n",
        "unchangeable_tensor[0]\n",
        "new_var = unchangeable_tensor[0].assign(7)\n",
        "new_var"
      ],
      "metadata": {
        "colab": {
          "base_uri": "https://localhost:8080/",
          "height": 315
        },
        "id": "aQhTNO5IMZHN",
        "outputId": "9bf9ec93-a72c-4cce-d75f-7a01536aa824"
      },
      "execution_count": null,
      "outputs": [
        {
          "output_type": "error",
          "ename": "AttributeError",
          "evalue": "'tensorflow.python.framework.ops.EagerTensor' object has no attribute 'assign'",
          "traceback": [
            "\u001b[0;31m---------------------------------------------------------------------------\u001b[0m",
            "\u001b[0;31mAttributeError\u001b[0m                            Traceback (most recent call last)",
            "\u001b[0;32m<ipython-input-17-0507b201ab68>\u001b[0m in \u001b[0;36m<cell line: 3>\u001b[0;34m()\u001b[0m\n\u001b[1;32m      1\u001b[0m \u001b[0;31m# Let's try change our unchangeable tensor\u001b[0m\u001b[0;34m\u001b[0m\u001b[0;34m\u001b[0m\u001b[0m\n\u001b[1;32m      2\u001b[0m \u001b[0munchangeable_tensor\u001b[0m\u001b[0;34m[\u001b[0m\u001b[0;36m0\u001b[0m\u001b[0;34m]\u001b[0m\u001b[0;34m\u001b[0m\u001b[0;34m\u001b[0m\u001b[0m\n\u001b[0;32m----> 3\u001b[0;31m \u001b[0mnew_var\u001b[0m \u001b[0;34m=\u001b[0m \u001b[0munchangeable_tensor\u001b[0m\u001b[0;34m[\u001b[0m\u001b[0;36m0\u001b[0m\u001b[0;34m]\u001b[0m\u001b[0;34m.\u001b[0m\u001b[0massign\u001b[0m\u001b[0;34m(\u001b[0m\u001b[0;36m7\u001b[0m\u001b[0;34m)\u001b[0m\u001b[0;34m\u001b[0m\u001b[0;34m\u001b[0m\u001b[0m\n\u001b[0m\u001b[1;32m      4\u001b[0m \u001b[0mnew_var\u001b[0m\u001b[0;34m\u001b[0m\u001b[0;34m\u001b[0m\u001b[0m\n",
            "\u001b[0;32m/usr/local/lib/python3.10/dist-packages/tensorflow/python/framework/tensor.py\u001b[0m in \u001b[0;36m__getattr__\u001b[0;34m(self, name)\u001b[0m\n\u001b[1;32m    258\u001b[0m         \u001b[0mtf\u001b[0m\u001b[0;34m.\u001b[0m\u001b[0mexperimental\u001b[0m\u001b[0;34m.\u001b[0m\u001b[0mnumpy\u001b[0m\u001b[0;34m.\u001b[0m\u001b[0mexperimental_enable_numpy_behavior\u001b[0m\u001b[0;34m(\u001b[0m\u001b[0;34m)\u001b[0m\u001b[0;34m\u001b[0m\u001b[0;34m\u001b[0m\u001b[0m\n\u001b[1;32m    259\u001b[0m       \"\"\")\n\u001b[0;32m--> 260\u001b[0;31m     \u001b[0mself\u001b[0m\u001b[0;34m.\u001b[0m\u001b[0m__getattribute__\u001b[0m\u001b[0;34m(\u001b[0m\u001b[0mname\u001b[0m\u001b[0;34m)\u001b[0m\u001b[0;34m\u001b[0m\u001b[0;34m\u001b[0m\u001b[0m\n\u001b[0m\u001b[1;32m    261\u001b[0m \u001b[0;34m\u001b[0m\u001b[0m\n\u001b[1;32m    262\u001b[0m   \u001b[0;34m@\u001b[0m\u001b[0mproperty\u001b[0m\u001b[0;34m\u001b[0m\u001b[0;34m\u001b[0m\u001b[0m\n",
            "\u001b[0;31mAttributeError\u001b[0m: 'tensorflow.python.framework.ops.EagerTensor' object has no attribute 'assign'"
          ]
        }
      ]
    },
    {
      "cell_type": "markdown",
      "source": [
        "##### 🔑 **Note**: Rarely in practice will you need to decide whether to use 'tf.constant' of 'tf.Variable' to create tensors, as TensorFlow does for u. However, if in doubt ,use 'tf.constant' and change it later if needed.\n",
        "\n"
      ],
      "metadata": {
        "id": "X6Z-FUn3Qoal"
      }
    },
    {
      "cell_type": "markdown",
      "source": [
        "### Creating Random Tensors\n",
        "Random tensors are tensors of some abitrary size which contains random numbers"
      ],
      "metadata": {
        "id": "IMJzPN_YS06o"
      }
    },
    {
      "cell_type": "code",
      "source": [
        "# Create two random ( but the same) tensors\n",
        "random_1=tf.random.Generator.from_seed(5)\n",
        "random_1=random_1.normal(shape=(3,2))\n",
        "\n",
        "random_2=tf.random.Generator.from_seed(5)\n",
        "random_2=random_2.uniform(shape=(3,2))\n",
        "\n",
        "random_1,random_2, random_1==random_2"
      ],
      "metadata": {
        "colab": {
          "base_uri": "https://localhost:8080/"
        },
        "id": "pq8O6uQ2PDqZ",
        "outputId": "80b2e5d2-5b9e-4312-94fe-fee321b022c7"
      },
      "execution_count": null,
      "outputs": [
        {
          "output_type": "execute_result",
          "data": {
            "text/plain": [
              "(<tf.Tensor: shape=(3, 2), dtype=float32, numpy=\n",
              " array([[ 1.0278524 ,  0.27974114],\n",
              "        [-0.01347923,  1.845181  ],\n",
              "        [ 0.97061104, -1.0242516 ]], dtype=float32)>,\n",
              " <tf.Tensor: shape=(3, 2), dtype=float32, numpy=\n",
              " array([[0.567016  , 0.2077086 ],\n",
              "        [0.18223882, 0.99883735],\n",
              "        [0.36950588, 0.37927854]], dtype=float32)>,\n",
              " <tf.Tensor: shape=(3, 2), dtype=bool, numpy=\n",
              " array([[False, False],\n",
              "        [False, False],\n",
              "        [False, False]])>)"
            ]
          },
          "metadata": {},
          "execution_count": 18
        }
      ]
    },
    {
      "cell_type": "markdown",
      "source": [
        "### Shuffle the order of elements in a tensor"
      ],
      "metadata": {
        "id": "pWm5euAef9YF"
      }
    },
    {
      "cell_type": "code",
      "source": [
        "# Shuffle the tensor ( valuable for when you want to shuffel the data so the inheret order doesn't affect learning)\n",
        "not_shuffled= tf.constant([[10,7],\n",
        "                          [3,4],\n",
        "                          [2,5]])\n",
        "#not_shuffled, not_shuffled.ndim\n",
        "## Shuffling our non-shuffled tensor\n",
        "tf.random.shuffle(not_shuffled)\n"
      ],
      "metadata": {
        "id": "VQ3PiHAWWSIx",
        "colab": {
          "base_uri": "https://localhost:8080/"
        },
        "outputId": "282d2a8d-e98e-4dda-9c3c-42d67777d840"
      },
      "execution_count": null,
      "outputs": [
        {
          "output_type": "execute_result",
          "data": {
            "text/plain": [
              "<tf.Tensor: shape=(3, 2), dtype=int32, numpy=\n",
              "array([[10,  7],\n",
              "       [ 2,  5],\n",
              "       [ 3,  4]], dtype=int32)>"
            ]
          },
          "metadata": {},
          "execution_count": 19
        }
      ]
    },
    {
      "cell_type": "code",
      "source": [
        "## shuffle non- shuffled tensors\n",
        "tf.random.set_seed(7)\n",
        "tf.random.shuffle(not_shuffled,seed=7)"
      ],
      "metadata": {
        "id": "GsNL1jPihZb_",
        "colab": {
          "base_uri": "https://localhost:8080/"
        },
        "outputId": "f520c270-b2ae-4266-be98-4db8cdbd30e6"
      },
      "execution_count": null,
      "outputs": [
        {
          "output_type": "execute_result",
          "data": {
            "text/plain": [
              "<tf.Tensor: shape=(3, 2), dtype=int32, numpy=\n",
              "array([[ 3,  4],\n",
              "       [10,  7],\n",
              "       [ 2,  5]], dtype=int32)>"
            ]
          },
          "metadata": {},
          "execution_count": 20
        }
      ]
    },
    {
      "cell_type": "markdown",
      "source": [
        "##### 🛠️ **Exercise:** Read through the tensorflow doc about the \"Random Seed Generation\" : https://www.tensorflow.org/api_docs/python/tf/random/set_seed and pratice writing 5 random tensors and shuffle them.\n",
        "\n",
        "> It looks like if i want to shuffle the tensors to be in the same order ,we got to use both global and operation level seed to do that"
      ],
      "metadata": {
        "id": "t_XvqFrak-1J"
      }
    },
    {
      "cell_type": "code",
      "source": [
        "# 1st - Neither Global or Operation level\n",
        "Const_tf=tf.constant([[3,2],\n",
        "                      [45,23],\n",
        "                      [12,7]])\n",
        "Const_tf"
      ],
      "metadata": {
        "colab": {
          "base_uri": "https://localhost:8080/"
        },
        "id": "qMsfCfWEwo-D",
        "outputId": "3db3b70c-a5d6-4845-9fcb-ece3b2874c6c"
      },
      "execution_count": null,
      "outputs": [
        {
          "output_type": "execute_result",
          "data": {
            "text/plain": [
              "<tf.Tensor: shape=(3, 2), dtype=int32, numpy=\n",
              "array([[ 3,  2],\n",
              "       [45, 23],\n",
              "       [12,  7]], dtype=int32)>"
            ]
          },
          "metadata": {},
          "execution_count": 21
        }
      ]
    },
    {
      "cell_type": "code",
      "source": [
        "# 2nd - Operation_level set, not Global\n",
        "tf.random.shuffle(Const_tf,seed=12)"
      ],
      "metadata": {
        "colab": {
          "base_uri": "https://localhost:8080/"
        },
        "id": "vR1RbihWyEba",
        "outputId": "2f41284e-cb8f-4a06-ba91-4bcd769a1bdb"
      },
      "execution_count": null,
      "outputs": [
        {
          "output_type": "execute_result",
          "data": {
            "text/plain": [
              "<tf.Tensor: shape=(3, 2), dtype=int32, numpy=\n",
              "array([[12,  7],\n",
              "       [45, 23],\n",
              "       [ 3,  2]], dtype=int32)>"
            ]
          },
          "metadata": {},
          "execution_count": 22
        }
      ]
    },
    {
      "cell_type": "code",
      "source": [
        "# 3rd - Global is set, Operation-level not set\n",
        "tf.random.set_seed(5)\n",
        "tf.random.shuffle(Const_tf)\n"
      ],
      "metadata": {
        "colab": {
          "base_uri": "https://localhost:8080/"
        },
        "id": "zvmnWT-czJCN",
        "outputId": "a61773d9-c95b-4b4a-9685-5a885a952cea"
      },
      "execution_count": null,
      "outputs": [
        {
          "output_type": "execute_result",
          "data": {
            "text/plain": [
              "<tf.Tensor: shape=(3, 2), dtype=int32, numpy=\n",
              "array([[12,  7],\n",
              "       [ 3,  2],\n",
              "       [45, 23]], dtype=int32)>"
            ]
          },
          "metadata": {},
          "execution_count": 23
        }
      ]
    },
    {
      "cell_type": "code",
      "source": [
        "# 4th - Both is set, Global and Operational-level\n",
        "tf. random.set_seed(7)\n",
        "tf.random.shuffle(Const_tf,seed=7)"
      ],
      "metadata": {
        "colab": {
          "base_uri": "https://localhost:8080/"
        },
        "id": "RoR2vWJV0--v",
        "outputId": "6834b6a8-b336-49fd-f6ff-4d57b9352109"
      },
      "execution_count": null,
      "outputs": [
        {
          "output_type": "execute_result",
          "data": {
            "text/plain": [
              "<tf.Tensor: shape=(3, 2), dtype=int32, numpy=\n",
              "array([[45, 23],\n",
              "       [ 3,  2],\n",
              "       [12,  7]], dtype=int32)>"
            ]
          },
          "metadata": {},
          "execution_count": 24
        }
      ]
    },
    {
      "cell_type": "markdown",
      "source": [
        "### Others ways to make Tensors"
      ],
      "metadata": {
        "id": "wLGl74GP4M4B"
      }
    },
    {
      "cell_type": "code",
      "source": [
        "# Create a tensor with all ones ( like numpy.ones)\n",
        "tf.ones([7,7])"
      ],
      "metadata": {
        "colab": {
          "base_uri": "https://localhost:8080/"
        },
        "id": "Y-HLPuov1XSj",
        "outputId": "ace9b7e3-76b4-4c55-be64-0a66e0a7d896"
      },
      "execution_count": null,
      "outputs": [
        {
          "output_type": "execute_result",
          "data": {
            "text/plain": [
              "<tf.Tensor: shape=(7, 7), dtype=float32, numpy=\n",
              "array([[1., 1., 1., 1., 1., 1., 1.],\n",
              "       [1., 1., 1., 1., 1., 1., 1.],\n",
              "       [1., 1., 1., 1., 1., 1., 1.],\n",
              "       [1., 1., 1., 1., 1., 1., 1.],\n",
              "       [1., 1., 1., 1., 1., 1., 1.],\n",
              "       [1., 1., 1., 1., 1., 1., 1.],\n",
              "       [1., 1., 1., 1., 1., 1., 1.]], dtype=float32)>"
            ]
          },
          "metadata": {},
          "execution_count": 25
        }
      ]
    },
    {
      "cell_type": "code",
      "source": [
        "# Create a tensor with all Zeros\n",
        "tf.zeros(shape=(7,7))"
      ],
      "metadata": {
        "colab": {
          "base_uri": "https://localhost:8080/"
        },
        "id": "MZ0SrnCL5DsM",
        "outputId": "a83b6711-b3e6-442f-85be-be7e5eb2d0d5"
      },
      "execution_count": null,
      "outputs": [
        {
          "output_type": "execute_result",
          "data": {
            "text/plain": [
              "<tf.Tensor: shape=(7, 7), dtype=float32, numpy=\n",
              "array([[0., 0., 0., 0., 0., 0., 0.],\n",
              "       [0., 0., 0., 0., 0., 0., 0.],\n",
              "       [0., 0., 0., 0., 0., 0., 0.],\n",
              "       [0., 0., 0., 0., 0., 0., 0.],\n",
              "       [0., 0., 0., 0., 0., 0., 0.],\n",
              "       [0., 0., 0., 0., 0., 0., 0.],\n",
              "       [0., 0., 0., 0., 0., 0., 0.]], dtype=float32)>"
            ]
          },
          "metadata": {},
          "execution_count": 26
        }
      ]
    },
    {
      "cell_type": "markdown",
      "source": [
        "### Turn Numpy arrays into Tensors\n",
        "The main difference b/w NumPy arrays and tensors is that tensors runs on GPUs( much faster in numberical computing)"
      ],
      "metadata": {
        "id": "PB6iyLXT5wA6"
      }
    },
    {
      "cell_type": "code",
      "source": [
        "# Turning numpy arrays into Tensors\n",
        "import numpy as np\n",
        "numpy_A=np.arange(1,25,dtype=np.int32) # create a numpy array between 1 and 25\n",
        "numpy_A\n",
        "\n",
        "# X= tf.constant(some_matrix) # capital for matrix or tensor\n",
        "# y= tf.constant(Vector) # non-capital for Vector"
      ],
      "metadata": {
        "colab": {
          "base_uri": "https://localhost:8080/"
        },
        "id": "rDGIcLD65J5S",
        "outputId": "5965e3c3-1c3b-49a2-980d-beb8a015c03e"
      },
      "execution_count": null,
      "outputs": [
        {
          "output_type": "execute_result",
          "data": {
            "text/plain": [
              "array([ 1,  2,  3,  4,  5,  6,  7,  8,  9, 10, 11, 12, 13, 14, 15, 16, 17,\n",
              "       18, 19, 20, 21, 22, 23, 24], dtype=int32)"
            ]
          },
          "metadata": {},
          "execution_count": 27
        }
      ]
    },
    {
      "cell_type": "code",
      "source": [
        "A=tf.constant(numpy_A,shape=(2,4,3))\n",
        "B=tf.constant(numpy_A)\n",
        "A, B"
      ],
      "metadata": {
        "colab": {
          "base_uri": "https://localhost:8080/"
        },
        "id": "Yhm2jTJi--Dl",
        "outputId": "ca4131e0-65e1-48e6-ba27-e5936046363f"
      },
      "execution_count": null,
      "outputs": [
        {
          "output_type": "execute_result",
          "data": {
            "text/plain": [
              "(<tf.Tensor: shape=(2, 4, 3), dtype=int32, numpy=\n",
              " array([[[ 1,  2,  3],\n",
              "         [ 4,  5,  6],\n",
              "         [ 7,  8,  9],\n",
              "         [10, 11, 12]],\n",
              " \n",
              "        [[13, 14, 15],\n",
              "         [16, 17, 18],\n",
              "         [19, 20, 21],\n",
              "         [22, 23, 24]]], dtype=int32)>,\n",
              " <tf.Tensor: shape=(24,), dtype=int32, numpy=\n",
              " array([ 1,  2,  3,  4,  5,  6,  7,  8,  9, 10, 11, 12, 13, 14, 15, 16, 17,\n",
              "        18, 19, 20, 21, 22, 23, 24], dtype=int32)>)"
            ]
          },
          "metadata": {},
          "execution_count": 28
        }
      ]
    },
    {
      "cell_type": "code",
      "source": [
        "2*4*3"
      ],
      "metadata": {
        "colab": {
          "base_uri": "https://localhost:8080/"
        },
        "id": "zA1dTU3G_Gzj",
        "outputId": "7e27507b-a6ef-45e5-d847-c4295f41999e"
      },
      "execution_count": null,
      "outputs": [
        {
          "output_type": "execute_result",
          "data": {
            "text/plain": [
              "24"
            ]
          },
          "metadata": {},
          "execution_count": 29
        }
      ]
    },
    {
      "cell_type": "code",
      "source": [
        "n_A=np.arange(1,50,dtype=np.int32)\n",
        "T=tf.constant(n_A,shape=(7,7))\n",
        "T"
      ],
      "metadata": {
        "colab": {
          "base_uri": "https://localhost:8080/"
        },
        "id": "im7J0URhLV4v",
        "outputId": "e64ff080-a0c5-4355-b42b-d18cfa8066a2"
      },
      "execution_count": null,
      "outputs": [
        {
          "output_type": "execute_result",
          "data": {
            "text/plain": [
              "<tf.Tensor: shape=(7, 7), dtype=int32, numpy=\n",
              "array([[ 1,  2,  3,  4,  5,  6,  7],\n",
              "       [ 8,  9, 10, 11, 12, 13, 14],\n",
              "       [15, 16, 17, 18, 19, 20, 21],\n",
              "       [22, 23, 24, 25, 26, 27, 28],\n",
              "       [29, 30, 31, 32, 33, 34, 35],\n",
              "       [36, 37, 38, 39, 40, 41, 42],\n",
              "       [43, 44, 45, 46, 47, 48, 49]], dtype=int32)>"
            ]
          },
          "metadata": {},
          "execution_count": 30
        }
      ]
    },
    {
      "cell_type": "markdown",
      "source": [
        "### Getting Information from Tensors\n",
        "\n",
        "When dealing with tensors probably want to aware about all attribute:\n",
        "* **Shape** - the length (no. of elemsnts) of each dimension of a tensor\n",
        "* **Rank** - No. of tensor dimension\n",
        "* **Axis or dimension** - a particular dimension of a tensor ,tensor[0],tensor[:,1]\n",
        "* **Size** - Total no. of items in a tensor"
      ],
      "metadata": {
        "id": "JLxystPJMM7r"
      }
    },
    {
      "cell_type": "code",
      "source": [
        "# Creating the rank 4 tensors (4 dimensions)\n",
        "rank_4_tensor=tf.ones(shape=[2,3,4,5])\n",
        "rank_4_tensor"
      ],
      "metadata": {
        "id": "ry2wj2voQ0wx",
        "colab": {
          "base_uri": "https://localhost:8080/"
        },
        "outputId": "6e3a5c93-cbd4-4e0c-aea0-f2c5619cb864"
      },
      "execution_count": null,
      "outputs": [
        {
          "output_type": "execute_result",
          "data": {
            "text/plain": [
              "<tf.Tensor: shape=(2, 3, 4, 5), dtype=float32, numpy=\n",
              "array([[[[1., 1., 1., 1., 1.],\n",
              "         [1., 1., 1., 1., 1.],\n",
              "         [1., 1., 1., 1., 1.],\n",
              "         [1., 1., 1., 1., 1.]],\n",
              "\n",
              "        [[1., 1., 1., 1., 1.],\n",
              "         [1., 1., 1., 1., 1.],\n",
              "         [1., 1., 1., 1., 1.],\n",
              "         [1., 1., 1., 1., 1.]],\n",
              "\n",
              "        [[1., 1., 1., 1., 1.],\n",
              "         [1., 1., 1., 1., 1.],\n",
              "         [1., 1., 1., 1., 1.],\n",
              "         [1., 1., 1., 1., 1.]]],\n",
              "\n",
              "\n",
              "       [[[1., 1., 1., 1., 1.],\n",
              "         [1., 1., 1., 1., 1.],\n",
              "         [1., 1., 1., 1., 1.],\n",
              "         [1., 1., 1., 1., 1.]],\n",
              "\n",
              "        [[1., 1., 1., 1., 1.],\n",
              "         [1., 1., 1., 1., 1.],\n",
              "         [1., 1., 1., 1., 1.],\n",
              "         [1., 1., 1., 1., 1.]],\n",
              "\n",
              "        [[1., 1., 1., 1., 1.],\n",
              "         [1., 1., 1., 1., 1.],\n",
              "         [1., 1., 1., 1., 1.],\n",
              "         [1., 1., 1., 1., 1.]]]], dtype=float32)>"
            ]
          },
          "metadata": {},
          "execution_count": 31
        }
      ]
    },
    {
      "cell_type": "code",
      "source": [
        "\n",
        "rank_4_tensor[0]"
      ],
      "metadata": {
        "colab": {
          "base_uri": "https://localhost:8080/"
        },
        "id": "iynLPzonSY5C",
        "outputId": "29fc5596-5168-42cb-c45a-343872da6bbc"
      },
      "execution_count": null,
      "outputs": [
        {
          "output_type": "execute_result",
          "data": {
            "text/plain": [
              "<tf.Tensor: shape=(3, 4, 5), dtype=float32, numpy=\n",
              "array([[[1., 1., 1., 1., 1.],\n",
              "        [1., 1., 1., 1., 1.],\n",
              "        [1., 1., 1., 1., 1.],\n",
              "        [1., 1., 1., 1., 1.]],\n",
              "\n",
              "       [[1., 1., 1., 1., 1.],\n",
              "        [1., 1., 1., 1., 1.],\n",
              "        [1., 1., 1., 1., 1.],\n",
              "        [1., 1., 1., 1., 1.]],\n",
              "\n",
              "       [[1., 1., 1., 1., 1.],\n",
              "        [1., 1., 1., 1., 1.],\n",
              "        [1., 1., 1., 1., 1.],\n",
              "        [1., 1., 1., 1., 1.]]], dtype=float32)>"
            ]
          },
          "metadata": {},
          "execution_count": 32
        }
      ]
    },
    {
      "cell_type": "code",
      "source": [
        "rank_4_tensor.shape, rank_4_tensor.ndim, tf.size(rank_4_tensor)"
      ],
      "metadata": {
        "colab": {
          "base_uri": "https://localhost:8080/"
        },
        "id": "nEadO7zoWgkH",
        "outputId": "3fe097e9-6a49-4ac1-e6d1-6500913e9553"
      },
      "execution_count": null,
      "outputs": [
        {
          "output_type": "execute_result",
          "data": {
            "text/plain": [
              "(TensorShape([2, 3, 4, 5]), 4, <tf.Tensor: shape=(), dtype=int32, numpy=120>)"
            ]
          },
          "metadata": {},
          "execution_count": 33
        }
      ]
    },
    {
      "cell_type": "code",
      "source": [
        "print(\"DataType of every element: \",rank_4_tensor.dtype)\n",
        "print(\"Number f dimensions (rank): \", rank_4_tensor.ndim)\n",
        "print(\"Shape of tensor: \",rank_4_tensor.shape)\n",
        "print(\"Element along 0 axis: \",rank_4_tensor.shape[0])\n",
        "print(\"Element aling last axis:\",rank_4_tensor.shape[-1])\n",
        "print(\"Total number of tensor in every element\", tf.size(rank_4_tensor))\n",
        "print(\"Total number of tensor in every element\", tf.size(rank_4_tensor).numpy())"
      ],
      "metadata": {
        "colab": {
          "base_uri": "https://localhost:8080/"
        },
        "id": "b5zHpsFaWrtf",
        "outputId": "aef328c7-fa8e-47f4-811b-bddfcad50298"
      },
      "execution_count": null,
      "outputs": [
        {
          "output_type": "stream",
          "name": "stdout",
          "text": [
            "DataType of every element:  <dtype: 'float32'>\n",
            "Number f dimensions (rank):  4\n",
            "Shape of tensor:  (2, 3, 4, 5)\n",
            "Element along 0 axis:  2\n",
            "Element aling last axis: 5\n",
            "Total number of tensor in every element tf.Tensor(120, shape=(), dtype=int32)\n",
            "Total number of tensor in every element 120\n"
          ]
        }
      ]
    },
    {
      "cell_type": "markdown",
      "source": [
        "### Indexing Tensors\n",
        "Indexing tensors are just like python lists."
      ],
      "metadata": {
        "id": "9klSGm43E2Hw"
      }
    },
    {
      "cell_type": "code",
      "source": [
        "some_list=[1,2,3,4]\n",
        "some_list[:2]"
      ],
      "metadata": {
        "id": "rvDDSNBQcIyJ",
        "colab": {
          "base_uri": "https://localhost:8080/"
        },
        "outputId": "4015e6c1-8904-4f41-f050-b308ad604b7e"
      },
      "execution_count": null,
      "outputs": [
        {
          "output_type": "execute_result",
          "data": {
            "text/plain": [
              "[1, 2]"
            ]
          },
          "metadata": {},
          "execution_count": 35
        }
      ]
    },
    {
      "cell_type": "code",
      "source": [
        "# Get the fisrt 2 elements of each dimension\n",
        "rank_4_tensor[:2,:2,:2,:2]"
      ],
      "metadata": {
        "colab": {
          "base_uri": "https://localhost:8080/"
        },
        "id": "bkup_KsQNcsB",
        "outputId": "dcbf706a-bfae-4600-944a-455b343a1833"
      },
      "execution_count": null,
      "outputs": [
        {
          "output_type": "execute_result",
          "data": {
            "text/plain": [
              "<tf.Tensor: shape=(2, 2, 2, 2), dtype=float32, numpy=\n",
              "array([[[[1., 1.],\n",
              "         [1., 1.]],\n",
              "\n",
              "        [[1., 1.],\n",
              "         [1., 1.]]],\n",
              "\n",
              "\n",
              "       [[[1., 1.],\n",
              "         [1., 1.]],\n",
              "\n",
              "        [[1., 1.],\n",
              "         [1., 1.]]]], dtype=float32)>"
            ]
          },
          "metadata": {},
          "execution_count": 36
        }
      ]
    },
    {
      "cell_type": "code",
      "source": [
        "# Get first element from each dimension from each index except the final one\n",
        "rank_4_tensor[:1,:1,:1,:]"
      ],
      "metadata": {
        "colab": {
          "base_uri": "https://localhost:8080/"
        },
        "id": "Wsm_4U03NpVl",
        "outputId": "8a5ac5c0-8a6b-4d4f-b280-fbbcc0dab18f"
      },
      "execution_count": null,
      "outputs": [
        {
          "output_type": "execute_result",
          "data": {
            "text/plain": [
              "<tf.Tensor: shape=(1, 1, 1, 5), dtype=float32, numpy=array([[[[1., 1., 1., 1., 1.]]]], dtype=float32)>"
            ]
          },
          "metadata": {},
          "execution_count": 37
        }
      ]
    },
    {
      "cell_type": "code",
      "source": [
        "# Creating a rank 2 tensor\n",
        "rank_2_tensor=tf.constant([[2,3],\n",
        "                          [5,5]])\n",
        "rank_2_tensor, rank_2_tensor.ndim, rank_2_tensor.shape\n"
      ],
      "metadata": {
        "colab": {
          "base_uri": "https://localhost:8080/"
        },
        "id": "1Sv63ctiPUb5",
        "outputId": "929cd303-ca7a-4282-b86d-759968af683b"
      },
      "execution_count": null,
      "outputs": [
        {
          "output_type": "execute_result",
          "data": {
            "text/plain": [
              "(<tf.Tensor: shape=(2, 2), dtype=int32, numpy=\n",
              " array([[2, 3],\n",
              "        [5, 5]], dtype=int32)>,\n",
              " 2,\n",
              " TensorShape([2, 2]))"
            ]
          },
          "metadata": {},
          "execution_count": 38
        }
      ]
    },
    {
      "cell_type": "code",
      "source": [
        "\n",
        "# Get the last item of each row from rank 2 tensor\n",
        "rank_2_tensor[:,-1]"
      ],
      "metadata": {
        "colab": {
          "base_uri": "https://localhost:8080/"
        },
        "id": "bwUz4vJCP7di",
        "outputId": "53d48003-55ea-4016-a58d-d2960a30b9d6"
      },
      "execution_count": null,
      "outputs": [
        {
          "output_type": "execute_result",
          "data": {
            "text/plain": [
              "<tf.Tensor: shape=(2,), dtype=int32, numpy=array([3, 5], dtype=int32)>"
            ]
          },
          "metadata": {},
          "execution_count": 39
        }
      ]
    },
    {
      "cell_type": "code",
      "source": [
        "# Add the extra dimension to rank 2 tensor\n",
        "rank_3_tensor= rank_2_tensor[...,tf.newaxis]\n",
        "rank_3_tensor, f'dimension of the tensor is:  {rank_3_tensor.ndim}'"
      ],
      "metadata": {
        "colab": {
          "base_uri": "https://localhost:8080/"
        },
        "id": "AeHK4UBVQlK6",
        "outputId": "9fea323d-711b-4525-a720-d670fe00fec3"
      },
      "execution_count": null,
      "outputs": [
        {
          "output_type": "execute_result",
          "data": {
            "text/plain": [
              "(<tf.Tensor: shape=(2, 2, 1), dtype=int32, numpy=\n",
              " array([[[2],\n",
              "         [3]],\n",
              " \n",
              "        [[5],\n",
              "         [5]]], dtype=int32)>,\n",
              " 'dimension of the tensor is:  3')"
            ]
          },
          "metadata": {},
          "execution_count": 40
        }
      ]
    },
    {
      "cell_type": "code",
      "source": [
        "# ALternate to tf.newaxis\n",
        "tf.expand_dims(rank_2_tensor,axis=-1) # '-1' means expand final axis\n"
      ],
      "metadata": {
        "colab": {
          "base_uri": "https://localhost:8080/"
        },
        "id": "0ZfM2VzjRP4W",
        "outputId": "21bda7a7-d715-4c54-aa67-44e2e47821c2"
      },
      "execution_count": null,
      "outputs": [
        {
          "output_type": "execute_result",
          "data": {
            "text/plain": [
              "<tf.Tensor: shape=(2, 2, 1), dtype=int32, numpy=\n",
              "array([[[2],\n",
              "        [3]],\n",
              "\n",
              "       [[5],\n",
              "        [5]]], dtype=int32)>"
            ]
          },
          "metadata": {},
          "execution_count": 41
        }
      ]
    },
    {
      "cell_type": "code",
      "source": [
        "tf.expand_dims(rank_2_tensor,axis=0) # expand the 0-axis"
      ],
      "metadata": {
        "colab": {
          "base_uri": "https://localhost:8080/"
        },
        "id": "nEg1p-KBSICg",
        "outputId": "7d8cc0f3-f7a9-4813-a6ee-e3e07940eaca"
      },
      "execution_count": null,
      "outputs": [
        {
          "output_type": "execute_result",
          "data": {
            "text/plain": [
              "<tf.Tensor: shape=(1, 2, 2), dtype=int32, numpy=\n",
              "array([[[2, 3],\n",
              "        [5, 5]]], dtype=int32)>"
            ]
          },
          "metadata": {},
          "execution_count": 42
        }
      ]
    },
    {
      "cell_type": "markdown",
      "source": [
        "### Manipulating tensor (tensor operations)\n",
        "**Basic Operation**"
      ],
      "metadata": {
        "id": "RePlC7xqRlY0"
      }
    },
    {
      "cell_type": "code",
      "source": [
        "# we can add values to the tensor by add operator\n",
        "tensor=tf.constant([[10,7],[2,3]])\n",
        "tensor+10"
      ],
      "metadata": {
        "id": "lEB0hqEFSdsP",
        "colab": {
          "base_uri": "https://localhost:8080/"
        },
        "outputId": "9f75d45b-3445-48dc-d110-8e79fa8d0cb8"
      },
      "execution_count": null,
      "outputs": [
        {
          "output_type": "execute_result",
          "data": {
            "text/plain": [
              "<tf.Tensor: shape=(2, 2), dtype=int32, numpy=\n",
              "array([[20, 17],\n",
              "       [12, 13]], dtype=int32)>"
            ]
          },
          "metadata": {},
          "execution_count": 43
        }
      ]
    },
    {
      "cell_type": "code",
      "source": [
        "# original tensor is unchanged\n",
        "\n",
        "tensor"
      ],
      "metadata": {
        "colab": {
          "base_uri": "https://localhost:8080/"
        },
        "id": "e5reGjV2Sc7r",
        "outputId": "4420e901-0366-4349-8733-f21f39257523"
      },
      "execution_count": null,
      "outputs": [
        {
          "output_type": "execute_result",
          "data": {
            "text/plain": [
              "<tf.Tensor: shape=(2, 2), dtype=int32, numpy=\n",
              "array([[10,  7],\n",
              "       [ 2,  3]], dtype=int32)>"
            ]
          },
          "metadata": {},
          "execution_count": 44
        }
      ]
    },
    {
      "cell_type": "code",
      "source": [
        "# multiplication\n",
        "tensor*10"
      ],
      "metadata": {
        "colab": {
          "base_uri": "https://localhost:8080/"
        },
        "id": "gYewwID9SigV",
        "outputId": "bbfaf310-8033-4993-f4c1-79988c2ed21c"
      },
      "execution_count": null,
      "outputs": [
        {
          "output_type": "execute_result",
          "data": {
            "text/plain": [
              "<tf.Tensor: shape=(2, 2), dtype=int32, numpy=\n",
              "array([[100,  70],\n",
              "       [ 20,  30]], dtype=int32)>"
            ]
          },
          "metadata": {},
          "execution_count": 45
        }
      ]
    },
    {
      "cell_type": "code",
      "source": [
        "# subtraction\n",
        "tensor-10"
      ],
      "metadata": {
        "colab": {
          "base_uri": "https://localhost:8080/"
        },
        "id": "PUdLfvRbTRUE",
        "outputId": "fd36731f-e550-403f-cc3b-df5bbed8379d"
      },
      "execution_count": null,
      "outputs": [
        {
          "output_type": "execute_result",
          "data": {
            "text/plain": [
              "<tf.Tensor: shape=(2, 2), dtype=int32, numpy=\n",
              "array([[ 0, -3],\n",
              "       [-8, -7]], dtype=int32)>"
            ]
          },
          "metadata": {},
          "execution_count": 46
        }
      ]
    },
    {
      "cell_type": "code",
      "source": [
        "# we can use tensorflow built in functions also\n",
        "tf.multiply(tensor,10)"
      ],
      "metadata": {
        "colab": {
          "base_uri": "https://localhost:8080/"
        },
        "id": "gouz_W20TZoc",
        "outputId": "c8956709-95e4-4221-d431-923a0946f0ef"
      },
      "execution_count": null,
      "outputs": [
        {
          "output_type": "execute_result",
          "data": {
            "text/plain": [
              "<tf.Tensor: shape=(2, 2), dtype=int32, numpy=\n",
              "array([[100,  70],\n",
              "       [ 20,  30]], dtype=int32)>"
            ]
          },
          "metadata": {},
          "execution_count": 47
        }
      ]
    },
    {
      "cell_type": "code",
      "source": [
        "tf.add(tensor,45)"
      ],
      "metadata": {
        "colab": {
          "base_uri": "https://localhost:8080/"
        },
        "id": "JW_A3NgvT_6f",
        "outputId": "c4cea531-f7c2-4287-d2bf-6e67c8afe50c"
      },
      "execution_count": null,
      "outputs": [
        {
          "output_type": "execute_result",
          "data": {
            "text/plain": [
              "<tf.Tensor: shape=(2, 2), dtype=int32, numpy=\n",
              "array([[55, 52],\n",
              "       [47, 48]], dtype=int32)>"
            ]
          },
          "metadata": {},
          "execution_count": 48
        }
      ]
    },
    {
      "cell_type": "code",
      "source": [
        "tf.subtract(tensor,30)"
      ],
      "metadata": {
        "colab": {
          "base_uri": "https://localhost:8080/"
        },
        "id": "NeY8aYWAUEsd",
        "outputId": "472f10b9-8272-43b9-84ab-c405c8aaf060"
      },
      "execution_count": null,
      "outputs": [
        {
          "output_type": "execute_result",
          "data": {
            "text/plain": [
              "<tf.Tensor: shape=(2, 2), dtype=int32, numpy=\n",
              "array([[-20, -23],\n",
              "       [-28, -27]], dtype=int32)>"
            ]
          },
          "metadata": {},
          "execution_count": 49
        }
      ]
    },
    {
      "cell_type": "code",
      "source": [
        "\n",
        "# can also add math function to run this\n",
        "tf.math.add(tensor,30)"
      ],
      "metadata": {
        "colab": {
          "base_uri": "https://localhost:8080/"
        },
        "id": "onFTQpe_UKNv",
        "outputId": "2003ef4d-8495-44ea-bcd8-645ce995b8c4"
      },
      "execution_count": null,
      "outputs": [
        {
          "output_type": "execute_result",
          "data": {
            "text/plain": [
              "<tf.Tensor: shape=(2, 2), dtype=int32, numpy=\n",
              "array([[40, 37],\n",
              "       [32, 33]], dtype=int32)>"
            ]
          },
          "metadata": {},
          "execution_count": 50
        }
      ]
    },
    {
      "cell_type": "markdown",
      "source": [
        "### Matrix Multiplication\n",
        "\n",
        "In ML, matrix multiplication is one of the most imp. tensor operation\n",
        "\n",
        "-To multiply one matrix to another we need todo the \"DOT Product\"\n",
        "-Dot product: is where we multiply the matching members\n",
        "-(1,2,3)*(7,9,11)=1*7 + 2*9 + 3*11 = 58"
      ],
      "metadata": {
        "id": "5jvzzxtnd7K8"
      }
    },
    {
      "cell_type": "code",
      "source": [
        "# Matrix nultiplication of a tensor\n",
        "tf.linalg.matmul(tensor,tensor) # linalg means Linear Algebra"
      ],
      "metadata": {
        "colab": {
          "base_uri": "https://localhost:8080/"
        },
        "id": "R1Qi8wX2URIq",
        "outputId": "29bfa164-1c70-46ca-adc8-5b83d43b16bd"
      },
      "execution_count": null,
      "outputs": [
        {
          "output_type": "execute_result",
          "data": {
            "text/plain": [
              "<tf.Tensor: shape=(2, 2), dtype=int32, numpy=\n",
              "array([[114,  91],\n",
              "       [ 26,  23]], dtype=int32)>"
            ]
          },
          "metadata": {},
          "execution_count": 51
        }
      ]
    },
    {
      "cell_type": "code",
      "source": [
        "# or we can also write it like this\n",
        "tf.matmul(tensor,tensor)"
      ],
      "metadata": {
        "colab": {
          "base_uri": "https://localhost:8080/"
        },
        "id": "d6rDm4xsg1hq",
        "outputId": "538b6e54-9e46-43db-c15e-f5df6a6a40ce"
      },
      "execution_count": null,
      "outputs": [
        {
          "output_type": "execute_result",
          "data": {
            "text/plain": [
              "<tf.Tensor: shape=(2, 2), dtype=int32, numpy=\n",
              "array([[114,  91],\n",
              "       [ 26,  23]], dtype=int32)>"
            ]
          },
          "metadata": {},
          "execution_count": 52
        }
      ]
    },
    {
      "cell_type": "code",
      "source": [
        "#\n",
        "t1=tf.constant([[1,2,5],\n",
        "                [7,2,1],\n",
        "                [3,3,3]])\n",
        "\n",
        "t2=tf.constant([[3,5],\n",
        "                [6,7],\n",
        "                [1,8]])\n",
        "tf.matmul(t1,t2)\n"
      ],
      "metadata": {
        "colab": {
          "base_uri": "https://localhost:8080/"
        },
        "id": "IQxLKMhEg8Pm",
        "outputId": "5121253f-02c8-4f0f-99b3-089850f30aa4"
      },
      "execution_count": null,
      "outputs": [
        {
          "output_type": "execute_result",
          "data": {
            "text/plain": [
              "<tf.Tensor: shape=(3, 2), dtype=int32, numpy=\n",
              "array([[20, 59],\n",
              "       [34, 57],\n",
              "       [30, 60]], dtype=int32)>"
            ]
          },
          "metadata": {},
          "execution_count": 53
        }
      ]
    },
    {
      "cell_type": "code",
      "source": [
        "\n",
        "# if we want to change the shape of the tensor\n",
        "# We can do the same with Transpose\n",
        "tf.reshape(t2,shape=(3,2)),tf.transpose(t2)"
      ],
      "metadata": {
        "colab": {
          "base_uri": "https://localhost:8080/"
        },
        "id": "SVwvtS-_hjWP",
        "outputId": "91a5d6c9-1c79-4e7e-f21a-02746ef539a6"
      },
      "execution_count": null,
      "outputs": [
        {
          "output_type": "execute_result",
          "data": {
            "text/plain": [
              "(<tf.Tensor: shape=(3, 2), dtype=int32, numpy=\n",
              " array([[3, 5],\n",
              "        [6, 7],\n",
              "        [1, 8]], dtype=int32)>,\n",
              " <tf.Tensor: shape=(2, 3), dtype=int32, numpy=\n",
              " array([[3, 6, 1],\n",
              "        [5, 7, 8]], dtype=int32)>)"
            ]
          },
          "metadata": {},
          "execution_count": 54
        }
      ]
    },
    {
      "cell_type": "code",
      "source": [
        "tf.transpose(t2)\n",
        "t2"
      ],
      "metadata": {
        "colab": {
          "base_uri": "https://localhost:8080/"
        },
        "id": "blXjVnakjYWS",
        "outputId": "0f0f1a87-53f4-4547-8f6d-b3251c05cb05"
      },
      "execution_count": null,
      "outputs": [
        {
          "output_type": "execute_result",
          "data": {
            "text/plain": [
              "<tf.Tensor: shape=(3, 2), dtype=int32, numpy=\n",
              "array([[3, 5],\n",
              "       [6, 7],\n",
              "       [1, 8]], dtype=int32)>"
            ]
          },
          "metadata": {},
          "execution_count": 55
        }
      ]
    },
    {
      "cell_type": "markdown",
      "source": [
        "##### The differnece b/w the TRANSPOSE & RESHAPE is transpose flips axis , where reshape shuffle in tensor around into shape you want"
      ],
      "metadata": {
        "id": "WLAcgU45kU2v"
      }
    },
    {
      "cell_type": "code",
      "source": [
        "t2"
      ],
      "metadata": {
        "id": "S6-sUy6blUZk",
        "outputId": "df33a2ee-f413-482a-b1df-2f069dae253f",
        "colab": {
          "base_uri": "https://localhost:8080/"
        }
      },
      "execution_count": null,
      "outputs": [
        {
          "output_type": "execute_result",
          "data": {
            "text/plain": [
              "<tf.Tensor: shape=(3, 2), dtype=int32, numpy=\n",
              "array([[3, 5],\n",
              "       [6, 7],\n",
              "       [1, 8]], dtype=int32)>"
            ]
          },
          "metadata": {},
          "execution_count": 56
        }
      ]
    },
    {
      "cell_type": "code",
      "source": [
        "# Try matrix multiplication with transppose\n",
        "tf.matmul(t2,tf.transpose(t1))"
      ],
      "metadata": {
        "colab": {
          "base_uri": "https://localhost:8080/",
          "height": 321
        },
        "id": "6EG3LU2FkHbF",
        "outputId": "fe5e79a8-65c0-40e5-fa06-96587d66b53f"
      },
      "execution_count": null,
      "outputs": [
        {
          "output_type": "error",
          "ename": "InvalidArgumentError",
          "evalue": "{{function_node __wrapped__MatMul_device_/job:localhost/replica:0/task:0/device:CPU:0}} Matrix size-incompatible: In[0]: [3,2], In[1]: [3,3] [Op:MatMul] name: ",
          "traceback": [
            "\u001b[0;31m---------------------------------------------------------------------------\u001b[0m",
            "\u001b[0;31mInvalidArgumentError\u001b[0m                      Traceback (most recent call last)",
            "\u001b[0;32m<ipython-input-57-dbe20d07993e>\u001b[0m in \u001b[0;36m<cell line: 2>\u001b[0;34m()\u001b[0m\n\u001b[1;32m      1\u001b[0m \u001b[0;31m# Try matrix multiplication with transppose\u001b[0m\u001b[0;34m\u001b[0m\u001b[0;34m\u001b[0m\u001b[0m\n\u001b[0;32m----> 2\u001b[0;31m \u001b[0mtf\u001b[0m\u001b[0;34m.\u001b[0m\u001b[0mmatmul\u001b[0m\u001b[0;34m(\u001b[0m\u001b[0mt2\u001b[0m\u001b[0;34m,\u001b[0m\u001b[0mtf\u001b[0m\u001b[0;34m.\u001b[0m\u001b[0mtranspose\u001b[0m\u001b[0;34m(\u001b[0m\u001b[0mt1\u001b[0m\u001b[0;34m)\u001b[0m\u001b[0;34m)\u001b[0m\u001b[0;34m\u001b[0m\u001b[0;34m\u001b[0m\u001b[0m\n\u001b[0m",
            "\u001b[0;32m/usr/local/lib/python3.10/dist-packages/tensorflow/python/ops/weak_tensor_ops.py\u001b[0m in \u001b[0;36mwrapper\u001b[0;34m(*args, **kwargs)\u001b[0m\n\u001b[1;32m    140\u001b[0m   \u001b[0;32mdef\u001b[0m \u001b[0mwrapper\u001b[0m\u001b[0;34m(\u001b[0m\u001b[0;34m*\u001b[0m\u001b[0margs\u001b[0m\u001b[0;34m,\u001b[0m \u001b[0;34m**\u001b[0m\u001b[0mkwargs\u001b[0m\u001b[0;34m)\u001b[0m\u001b[0;34m:\u001b[0m\u001b[0;34m\u001b[0m\u001b[0;34m\u001b[0m\u001b[0m\n\u001b[1;32m    141\u001b[0m     \u001b[0;32mif\u001b[0m \u001b[0;32mnot\u001b[0m \u001b[0mops\u001b[0m\u001b[0;34m.\u001b[0m\u001b[0mis_auto_dtype_conversion_enabled\u001b[0m\u001b[0;34m(\u001b[0m\u001b[0;34m)\u001b[0m\u001b[0;34m:\u001b[0m\u001b[0;34m\u001b[0m\u001b[0;34m\u001b[0m\u001b[0m\n\u001b[0;32m--> 142\u001b[0;31m       \u001b[0;32mreturn\u001b[0m \u001b[0mop\u001b[0m\u001b[0;34m(\u001b[0m\u001b[0;34m*\u001b[0m\u001b[0margs\u001b[0m\u001b[0;34m,\u001b[0m \u001b[0;34m**\u001b[0m\u001b[0mkwargs\u001b[0m\u001b[0;34m)\u001b[0m\u001b[0;34m\u001b[0m\u001b[0;34m\u001b[0m\u001b[0m\n\u001b[0m\u001b[1;32m    143\u001b[0m     \u001b[0mbound_arguments\u001b[0m \u001b[0;34m=\u001b[0m \u001b[0msignature\u001b[0m\u001b[0;34m.\u001b[0m\u001b[0mbind\u001b[0m\u001b[0;34m(\u001b[0m\u001b[0;34m*\u001b[0m\u001b[0margs\u001b[0m\u001b[0;34m,\u001b[0m \u001b[0;34m**\u001b[0m\u001b[0mkwargs\u001b[0m\u001b[0;34m)\u001b[0m\u001b[0;34m\u001b[0m\u001b[0;34m\u001b[0m\u001b[0m\n\u001b[1;32m    144\u001b[0m     \u001b[0mbound_arguments\u001b[0m\u001b[0;34m.\u001b[0m\u001b[0mapply_defaults\u001b[0m\u001b[0;34m(\u001b[0m\u001b[0;34m)\u001b[0m\u001b[0;34m\u001b[0m\u001b[0;34m\u001b[0m\u001b[0m\n",
            "\u001b[0;32m/usr/local/lib/python3.10/dist-packages/tensorflow/python/util/traceback_utils.py\u001b[0m in \u001b[0;36merror_handler\u001b[0;34m(*args, **kwargs)\u001b[0m\n\u001b[1;32m    151\u001b[0m     \u001b[0;32mexcept\u001b[0m \u001b[0mException\u001b[0m \u001b[0;32mas\u001b[0m \u001b[0me\u001b[0m\u001b[0;34m:\u001b[0m\u001b[0;34m\u001b[0m\u001b[0;34m\u001b[0m\u001b[0m\n\u001b[1;32m    152\u001b[0m       \u001b[0mfiltered_tb\u001b[0m \u001b[0;34m=\u001b[0m \u001b[0m_process_traceback_frames\u001b[0m\u001b[0;34m(\u001b[0m\u001b[0me\u001b[0m\u001b[0;34m.\u001b[0m\u001b[0m__traceback__\u001b[0m\u001b[0;34m)\u001b[0m\u001b[0;34m\u001b[0m\u001b[0;34m\u001b[0m\u001b[0m\n\u001b[0;32m--> 153\u001b[0;31m       \u001b[0;32mraise\u001b[0m \u001b[0me\u001b[0m\u001b[0;34m.\u001b[0m\u001b[0mwith_traceback\u001b[0m\u001b[0;34m(\u001b[0m\u001b[0mfiltered_tb\u001b[0m\u001b[0;34m)\u001b[0m \u001b[0;32mfrom\u001b[0m \u001b[0;32mNone\u001b[0m\u001b[0;34m\u001b[0m\u001b[0;34m\u001b[0m\u001b[0m\n\u001b[0m\u001b[1;32m    154\u001b[0m     \u001b[0;32mfinally\u001b[0m\u001b[0;34m:\u001b[0m\u001b[0;34m\u001b[0m\u001b[0;34m\u001b[0m\u001b[0m\n\u001b[1;32m    155\u001b[0m       \u001b[0;32mdel\u001b[0m \u001b[0mfiltered_tb\u001b[0m\u001b[0;34m\u001b[0m\u001b[0;34m\u001b[0m\u001b[0m\n",
            "\u001b[0;32m/usr/local/lib/python3.10/dist-packages/tensorflow/python/framework/ops.py\u001b[0m in \u001b[0;36mraise_from_not_ok_status\u001b[0;34m(e, name)\u001b[0m\n\u001b[1;32m   5981\u001b[0m \u001b[0;32mdef\u001b[0m \u001b[0mraise_from_not_ok_status\u001b[0m\u001b[0;34m(\u001b[0m\u001b[0me\u001b[0m\u001b[0;34m,\u001b[0m \u001b[0mname\u001b[0m\u001b[0;34m)\u001b[0m \u001b[0;34m->\u001b[0m \u001b[0mNoReturn\u001b[0m\u001b[0;34m:\u001b[0m\u001b[0;34m\u001b[0m\u001b[0;34m\u001b[0m\u001b[0m\n\u001b[1;32m   5982\u001b[0m   \u001b[0me\u001b[0m\u001b[0;34m.\u001b[0m\u001b[0mmessage\u001b[0m \u001b[0;34m+=\u001b[0m \u001b[0;34m(\u001b[0m\u001b[0;34m\" name: \"\u001b[0m \u001b[0;34m+\u001b[0m \u001b[0mstr\u001b[0m\u001b[0;34m(\u001b[0m\u001b[0mname\u001b[0m \u001b[0;32mif\u001b[0m \u001b[0mname\u001b[0m \u001b[0;32mis\u001b[0m \u001b[0;32mnot\u001b[0m \u001b[0;32mNone\u001b[0m \u001b[0;32melse\u001b[0m \u001b[0;34m\"\"\u001b[0m\u001b[0;34m)\u001b[0m\u001b[0;34m)\u001b[0m\u001b[0;34m\u001b[0m\u001b[0;34m\u001b[0m\u001b[0m\n\u001b[0;32m-> 5983\u001b[0;31m   \u001b[0;32mraise\u001b[0m \u001b[0mcore\u001b[0m\u001b[0;34m.\u001b[0m\u001b[0m_status_to_exception\u001b[0m\u001b[0;34m(\u001b[0m\u001b[0me\u001b[0m\u001b[0;34m)\u001b[0m \u001b[0;32mfrom\u001b[0m \u001b[0;32mNone\u001b[0m  \u001b[0;31m# pylint: disable=protected-access\u001b[0m\u001b[0;34m\u001b[0m\u001b[0;34m\u001b[0m\u001b[0m\n\u001b[0m\u001b[1;32m   5984\u001b[0m \u001b[0;34m\u001b[0m\u001b[0m\n\u001b[1;32m   5985\u001b[0m \u001b[0;34m\u001b[0m\u001b[0m\n",
            "\u001b[0;31mInvalidArgumentError\u001b[0m: {{function_node __wrapped__MatMul_device_/job:localhost/replica:0/task:0/device:CPU:0}} Matrix size-incompatible: In[0]: [3,2], In[1]: [3,3] [Op:MatMul] name: "
          ]
        }
      ]
    },
    {
      "cell_type": "code",
      "source": [
        "# Practice the matmul function with random fucntion\n",
        "rt1=tf.random.Generator.from_seed(42)\n",
        "rt1=rt1.normal(shape=(2,3))\n",
        "\n",
        "rt2= tf.random.Generator.from_seed(42)\n",
        "rt2=rt2.normal(shape=(2,3))\n",
        "\n",
        "rt2=tf.reshape(rt2,shape=(3,2))\n",
        "tf.matmul(rt1,rt2)\n"
      ],
      "metadata": {
        "id": "A9rwHTcJlLfg"
      },
      "execution_count": null,
      "outputs": []
    },
    {
      "cell_type": "markdown",
      "source": [
        "📖 **Resources**: For matrix multiplication this is the resourse for best understaning of the matrix multiplication and here it is: https://www.mathsisfun.com/algebra/matrix-multiplying.html"
      ],
      "metadata": {
        "id": "pQIgS7CFuOIu"
      }
    },
    {
      "cell_type": "markdown",
      "source": [
        "#### **Dot Product:**\n",
        "Matrix multiplication is alos refered as the dot product\n",
        "* \" tf.matmul()\"\n",
        "* \" tf.tensordor()\""
      ],
      "metadata": {
        "id": "hplv2r3Eusl7"
      }
    },
    {
      "cell_type": "code",
      "source": [
        "# Perform dot product on X and Y (req. X & Y to be transposed)\n",
        "X=tf.constant([[1,2,5],\n",
        "                [7,2,1],\n",
        "                [3,3,3]])\n",
        "\n",
        "Y=tf.constant([[3,5],\n",
        "                [6,7],\n",
        "                [1,8]])\n",
        "\n",
        "tf.tensordot(X,Y,axes=1) # we need axes to be mentioned in the tensordot function\n",
        "\n"
      ],
      "metadata": {
        "id": "0SlP0X62piCt",
        "colab": {
          "base_uri": "https://localhost:8080/"
        },
        "outputId": "ec7e1bb4-46f7-47f5-f2d3-436e43ad424f"
      },
      "execution_count": null,
      "outputs": [
        {
          "output_type": "execute_result",
          "data": {
            "text/plain": [
              "<tf.Tensor: shape=(3, 2), dtype=int32, numpy=\n",
              "array([[20, 59],\n",
              "       [34, 57],\n",
              "       [30, 60]], dtype=int32)>"
            ]
          },
          "metadata": {},
          "execution_count": 58
        }
      ]
    },
    {
      "cell_type": "code",
      "source": [
        "x=tf.constant([[1,23],\n",
        "               [2,3],\n",
        "               [3,3]])\n",
        "x\n",
        "y= tf.constant([[1,2,3],\n",
        "                [4,5,6]])\n",
        "tf.tensordot(x,y,axes=1)"
      ],
      "metadata": {
        "colab": {
          "base_uri": "https://localhost:8080/"
        },
        "id": "N4BsqrGLvq0K",
        "outputId": "1f8b1727-fa92-4c92-cf4d-2991ac776058"
      },
      "execution_count": null,
      "outputs": [
        {
          "output_type": "execute_result",
          "data": {
            "text/plain": [
              "<tf.Tensor: shape=(3, 3), dtype=int32, numpy=\n",
              "array([[ 93, 117, 141],\n",
              "       [ 14,  19,  24],\n",
              "       [ 15,  21,  27]], dtype=int32)>"
            ]
          },
          "metadata": {},
          "execution_count": 59
        }
      ]
    },
    {
      "cell_type": "markdown",
      "source": [
        "Generally, when performing matrix multiplication on 2 tensors and one of the axes doesnot line up i will **transpose** ( rather than **reshape** ) one of the tensors to satisfy matrix multiplication rules."
      ],
      "metadata": {
        "id": "rskEKPgczZ7Z"
      }
    },
    {
      "cell_type": "markdown",
      "source": [
        "### Changing the datatype of the tensor"
      ],
      "metadata": {
        "id": "UX3locUf7wT0"
      }
    },
    {
      "cell_type": "code",
      "source": [
        "# create the new tensor with default dtype\n",
        "B=tf.constant([2.5,4.5])\n",
        "B.dtype"
      ],
      "metadata": {
        "colab": {
          "base_uri": "https://localhost:8080/"
        },
        "id": "LgMnQNoWxVas",
        "outputId": "912cbe54-2c2f-43f6-f451-dea5d29e36b9"
      },
      "execution_count": null,
      "outputs": [
        {
          "output_type": "execute_result",
          "data": {
            "text/plain": [
              "tf.float32"
            ]
          },
          "metadata": {},
          "execution_count": 60
        }
      ]
    },
    {
      "cell_type": "code",
      "source": [
        "C=tf.constant([7,10])\n",
        "C.dtype"
      ],
      "metadata": {
        "colab": {
          "base_uri": "https://localhost:8080/"
        },
        "id": "2lad9nXI8gqH",
        "outputId": "8e40e62f-b6eb-4c39-cd21-b8445b3c2c03"
      },
      "execution_count": null,
      "outputs": [
        {
          "output_type": "execute_result",
          "data": {
            "text/plain": [
              "tf.int32"
            ]
          },
          "metadata": {},
          "execution_count": 61
        }
      ]
    },
    {
      "cell_type": "markdown",
      "source": [
        "**Reduced Precision:**  Mixed precision is the use of both 16-bit and 32-bit floating-point types in a model during training to make it run faster and use less memory. By keeping certain parts of the model in the 32-bit types for numeric stability, the model will have a lower step time and train equally as well in terms of the evaluation metrics such as accuracy. This guide describes how to use the Keras mixed precision API to speed up your models. Using this API can improve performance by more than 3 times on modern GPUs, 60% on TPUs and more than 2 times on latest Intel CPUs."
      ],
      "metadata": {
        "id": "MmCsGIHf9Eew"
      }
    },
    {
      "cell_type": "code",
      "source": [
        "# Change from float32 ot float16 (reduced precision)\n",
        "D=tf.cast(B,dtype=tf.float16)\n",
        "D"
      ],
      "metadata": {
        "colab": {
          "base_uri": "https://localhost:8080/"
        },
        "id": "rzII9pm08ocD",
        "outputId": "3193c6d0-642c-4eb6-883a-30b69c07cf87"
      },
      "execution_count": null,
      "outputs": [
        {
          "output_type": "execute_result",
          "data": {
            "text/plain": [
              "<tf.Tensor: shape=(2,), dtype=float16, numpy=array([2.5, 4.5], dtype=float16)>"
            ]
          },
          "metadata": {},
          "execution_count": 62
        }
      ]
    },
    {
      "cell_type": "code",
      "source": [
        "# Change from int32 to float32\n",
        "Aa=tf.constant([2,3])\n",
        "a_cast=tf.cast(Aa,dtype=tf.float32)\n",
        "a_cast, a_cast.dtype"
      ],
      "metadata": {
        "colab": {
          "base_uri": "https://localhost:8080/"
        },
        "id": "VjNg8_v9-Kpg",
        "outputId": "28479f42-0766-404f-a991-145fe228966c"
      },
      "execution_count": null,
      "outputs": [
        {
          "output_type": "execute_result",
          "data": {
            "text/plain": [
              "(<tf.Tensor: shape=(2,), dtype=float32, numpy=array([2., 3.], dtype=float32)>,\n",
              " tf.float32)"
            ]
          },
          "metadata": {},
          "execution_count": 63
        }
      ]
    },
    {
      "cell_type": "markdown",
      "source": [
        "### Tensor Aggregation\n",
        "--> Aggregation tensor= condensing them from multiple values down to smaller amount of values\n",
        "\n",
        "--> It refers to the process of reducing the dimensionality of the tensor by combinig its elements based on some operations\n",
        "\n",
        "--> Aggregation in the context of tensor refers to the process of combining multiple tensor inputs into single output , often reducing its dimensonality."
      ],
      "metadata": {
        "id": "RHKBpbjr_S0p"
      }
    },
    {
      "cell_type": "code",
      "source": [
        "# Get the ABSOLUTE VALUES- changing the negative tensor values into positive tensor like [-2,-1]-->> [2,1]\n",
        "d=tf.constant([-2,-1])\n",
        "# get the absolute value\n",
        "tf.abs(d)"
      ],
      "metadata": {
        "id": "rkpNMlPN-4lp",
        "colab": {
          "base_uri": "https://localhost:8080/"
        },
        "outputId": "ba2196a6-b20a-459e-ae3d-9b6bdae66ff6"
      },
      "execution_count": null,
      "outputs": [
        {
          "output_type": "execute_result",
          "data": {
            "text/plain": [
              "<tf.Tensor: shape=(2,), dtype=int32, numpy=array([2, 1], dtype=int32)>"
            ]
          },
          "metadata": {},
          "execution_count": 64
        }
      ]
    },
    {
      "cell_type": "markdown",
      "source": [
        "Lets go through the following forms of aggregation:\n",
        "* Get the Minimum\n",
        "* Get the Maximum\n",
        "* Get the mean of the tensor\n",
        "* Sum if the tensor  "
      ],
      "metadata": {
        "id": "PFl2xvQNU04M"
      }
    },
    {
      "cell_type": "code",
      "source": [
        "# Creating the random tensor with values 0 to 100 of size 50\n",
        "random1=tf.constant(np.random.randint(0,100,size=50))\n",
        "random1"
      ],
      "metadata": {
        "colab": {
          "base_uri": "https://localhost:8080/"
        },
        "id": "Qy87E4l4Up1Q",
        "outputId": "f8b34006-6367-4660-b910-26247c2036d9"
      },
      "execution_count": null,
      "outputs": [
        {
          "output_type": "execute_result",
          "data": {
            "text/plain": [
              "<tf.Tensor: shape=(50,), dtype=int64, numpy=\n",
              "array([ 3, 51, 62, 44, 85, 45, 57, 36, 22, 36, 26, 31, 88, 50, 64,  1, 34,\n",
              "       97, 93, 34, 55, 92, 50,  9,  5, 22, 37, 10, 82, 48, 93,  6, 36, 43,\n",
              "       74, 36, 46, 60, 56, 22, 49, 62, 95, 55, 77, 96, 53, 36, 63, 21])>"
            ]
          },
          "metadata": {},
          "execution_count": 65
        }
      ]
    },
    {
      "cell_type": "code",
      "source": [
        "random2=tf.random.Generator.from_seed(5)\n",
        "random2=random2.normal(shape=(3,2))\n",
        "tf.abs(random2)"
      ],
      "metadata": {
        "colab": {
          "base_uri": "https://localhost:8080/"
        },
        "id": "Xe9MLrPfWD8E",
        "outputId": "be423ea0-769b-4ca9-da7d-9c5c70742998"
      },
      "execution_count": null,
      "outputs": [
        {
          "output_type": "execute_result",
          "data": {
            "text/plain": [
              "<tf.Tensor: shape=(3, 2), dtype=float32, numpy=\n",
              "array([[1.0278524 , 0.27974114],\n",
              "       [0.01347923, 1.845181  ],\n",
              "       [0.97061104, 1.0242516 ]], dtype=float32)>"
            ]
          },
          "metadata": {},
          "execution_count": 66
        }
      ]
    },
    {
      "cell_type": "code",
      "source": [
        "random3=tf.constant(np.arange(0,100,dtype=np.int32))\n",
        "#random2\n",
        "\n",
        "random3=tf.constant(random3,shape=(4,25))\n",
        "random3,random3.ndim"
      ],
      "metadata": {
        "colab": {
          "base_uri": "https://localhost:8080/"
        },
        "id": "LG2fpU6WWoJX",
        "outputId": "fbe3701e-6dfe-4a6e-fece-834dae20cc8b"
      },
      "execution_count": null,
      "outputs": [
        {
          "output_type": "execute_result",
          "data": {
            "text/plain": [
              "(<tf.Tensor: shape=(4, 25), dtype=int32, numpy=\n",
              " array([[ 0,  1,  2,  3,  4,  5,  6,  7,  8,  9, 10, 11, 12, 13, 14, 15,\n",
              "         16, 17, 18, 19, 20, 21, 22, 23, 24],\n",
              "        [25, 26, 27, 28, 29, 30, 31, 32, 33, 34, 35, 36, 37, 38, 39, 40,\n",
              "         41, 42, 43, 44, 45, 46, 47, 48, 49],\n",
              "        [50, 51, 52, 53, 54, 55, 56, 57, 58, 59, 60, 61, 62, 63, 64, 65,\n",
              "         66, 67, 68, 69, 70, 71, 72, 73, 74],\n",
              "        [75, 76, 77, 78, 79, 80, 81, 82, 83, 84, 85, 86, 87, 88, 89, 90,\n",
              "         91, 92, 93, 94, 95, 96, 97, 98, 99]], dtype=int32)>,\n",
              " 2)"
            ]
          },
          "metadata": {},
          "execution_count": 67
        }
      ]
    },
    {
      "cell_type": "code",
      "source": [
        "# find the minimum\n",
        "tf.reduce_min(random1),tf.reduce_min(random2),tf.reduce_min(random3)"
      ],
      "metadata": {
        "colab": {
          "base_uri": "https://localhost:8080/"
        },
        "id": "JluWz-TAXM6V",
        "outputId": "cf6c15c9-41d4-472a-f908-1fab7f0cb81f"
      },
      "execution_count": null,
      "outputs": [
        {
          "output_type": "execute_result",
          "data": {
            "text/plain": [
              "(<tf.Tensor: shape=(), dtype=int64, numpy=1>,\n",
              " <tf.Tensor: shape=(), dtype=float32, numpy=-1.0242516>,\n",
              " <tf.Tensor: shape=(), dtype=int32, numpy=0>)"
            ]
          },
          "metadata": {},
          "execution_count": 68
        }
      ]
    },
    {
      "cell_type": "code",
      "source": [
        "# Find the Maximum\n",
        "tf.reduce_max(random1),tf.reduce_max(random2),tf.reduce_max(random3)"
      ],
      "metadata": {
        "colab": {
          "base_uri": "https://localhost:8080/"
        },
        "id": "mFXtP0ICZawE",
        "outputId": "b754a189-914f-4cad-a565-63ea470882b0"
      },
      "execution_count": null,
      "outputs": [
        {
          "output_type": "execute_result",
          "data": {
            "text/plain": [
              "(<tf.Tensor: shape=(), dtype=int64, numpy=97>,\n",
              " <tf.Tensor: shape=(), dtype=float32, numpy=1.845181>,\n",
              " <tf.Tensor: shape=(), dtype=int32, numpy=99>)"
            ]
          },
          "metadata": {},
          "execution_count": 69
        }
      ]
    },
    {
      "cell_type": "code",
      "source": [
        "# Find the mean\n",
        "tf.reduce_mean(random1),tf.reduce_mean(random2),tf.reduce_mean(random3)"
      ],
      "metadata": {
        "colab": {
          "base_uri": "https://localhost:8080/"
        },
        "id": "wof1sHFHad4V",
        "outputId": "69119679-27f9-4459-e73f-67db6d3acf88"
      },
      "execution_count": null,
      "outputs": [
        {
          "output_type": "execute_result",
          "data": {
            "text/plain": [
              "(<tf.Tensor: shape=(), dtype=int64, numpy=48>,\n",
              " <tf.Tensor: shape=(), dtype=float32, numpy=0.5142758>,\n",
              " <tf.Tensor: shape=(), dtype=int32, numpy=49>)"
            ]
          },
          "metadata": {},
          "execution_count": 70
        }
      ]
    },
    {
      "cell_type": "code",
      "source": [
        "# FInd the sum\n",
        "tf.reduce_sum(random1),tf.reduce_sum(random2),tf.reduce_sum(random3)"
      ],
      "metadata": {
        "colab": {
          "base_uri": "https://localhost:8080/"
        },
        "id": "eTj48iY0areq",
        "outputId": "47fb75a0-f410-4378-9d88-bb3c0e74e103"
      },
      "execution_count": null,
      "outputs": [
        {
          "output_type": "execute_result",
          "data": {
            "text/plain": [
              "(<tf.Tensor: shape=(), dtype=int64, numpy=2448>,\n",
              " <tf.Tensor: shape=(), dtype=float32, numpy=3.0856547>,\n",
              " <tf.Tensor: shape=(), dtype=int32, numpy=4950>)"
            ]
          },
          "metadata": {},
          "execution_count": 71
        }
      ]
    },
    {
      "cell_type": "code",
      "source": [
        "# FInd the variance\n",
        "# TO the variance of the tensor, we need to impoert the tensorflow_probability to run that\n",
        "import tensorflow_probability as tfp\n",
        "tfp.stats.variance(random1),tfp.stats.variance(random2),tfp.stats.variance(random3)"
      ],
      "metadata": {
        "colab": {
          "base_uri": "https://localhost:8080/"
        },
        "id": "8eid4hsrbNGo",
        "outputId": "3c531541-f6a5-4c7a-9ab2-d82e0ffec562"
      },
      "execution_count": null,
      "outputs": [
        {
          "output_type": "execute_result",
          "data": {
            "text/plain": [
              "(<tf.Tensor: shape=(), dtype=int64, numpy=709>,\n",
              " <tf.Tensor: shape=(2,), dtype=float32, numpy=array([0.22845353, 1.3760715 ], dtype=float32)>,\n",
              " <tf.Tensor: shape=(25,), dtype=int32, numpy=\n",
              " array([781, 781, 781, 781, 781, 781, 781, 781, 781, 781, 781, 781, 781,\n",
              "        781, 781, 781, 781, 781, 781, 781, 781, 781, 781, 781, 781],\n",
              "       dtype=int32)>)"
            ]
          },
          "metadata": {},
          "execution_count": 72
        }
      ]
    },
    {
      "cell_type": "code",
      "source": [
        "# Find the standard deviaiton\n",
        "tf.math.reduce_std(tf.cast(random1,dtype=tf.float32)),tf.math.reduce_std(tf.cast(random2,dtype=tf.float32)),tf.math.reduce_std(tf.cast(random3,dtype=tf.float32))"
      ],
      "metadata": {
        "colab": {
          "base_uri": "https://localhost:8080/"
        },
        "id": "luiLMoVIb2Uh",
        "outputId": "5ef98b45-45c0-46bd-c5eb-09ddd4a57f7b"
      },
      "execution_count": null,
      "outputs": [
        {
          "output_type": "execute_result",
          "data": {
            "text/plain": [
              "(<tf.Tensor: shape=(), dtype=float32, numpy=26.618761>,\n",
              " <tf.Tensor: shape=(), dtype=float32, numpy=0.9077361>,\n",
              " <tf.Tensor: shape=(), dtype=float32, numpy=28.86607>)"
            ]
          },
          "metadata": {},
          "execution_count": 73
        }
      ]
    },
    {
      "cell_type": "code",
      "source": [
        "# to finds the variance of the tensor without any useof stats we can also\n",
        "tf.math.reduce_variance(tf.cast(random1,dtype=tf.float32))"
      ],
      "metadata": {
        "colab": {
          "base_uri": "https://localhost:8080/"
        },
        "id": "TzPrlixlEgEN",
        "outputId": "ad2577f1-cc4c-4f47-aa37-97ab0fc44dc2"
      },
      "execution_count": null,
      "outputs": [
        {
          "output_type": "execute_result",
          "data": {
            "text/plain": [
              "<tf.Tensor: shape=(), dtype=float32, numpy=708.5584>"
            ]
          },
          "metadata": {},
          "execution_count": 74
        }
      ]
    },
    {
      "cell_type": "markdown",
      "source": [
        "### Find the positional maximum and minimum (3-09-24)"
      ],
      "metadata": {
        "id": "FaGoQRskezSY"
      }
    },
    {
      "cell_type": "code",
      "source": [
        "# Create a new tensor for finding thw positional max min\n",
        "tf.random.set_seed(77)\n",
        "F=tf.random.uniform(shape=[50])\n",
        "F"
      ],
      "metadata": {
        "colab": {
          "base_uri": "https://localhost:8080/"
        },
        "id": "Oc1y0ekWeFzm",
        "outputId": "a0a77e57-47f7-4dbf-a725-eeadde48a1b4"
      },
      "execution_count": null,
      "outputs": [
        {
          "output_type": "execute_result",
          "data": {
            "text/plain": [
              "<tf.Tensor: shape=(50,), dtype=float32, numpy=\n",
              "array([0.07212555, 0.5266396 , 0.72306037, 0.35061193, 0.8296379 ,\n",
              "       0.11147892, 0.457646  , 0.16073549, 0.84786737, 0.96440816,\n",
              "       0.31061685, 0.10325825, 0.8765378 , 0.7888309 , 0.39391422,\n",
              "       0.464728  , 0.38612247, 0.5357307 , 0.3301475 , 0.22967815,\n",
              "       0.17843282, 0.64866376, 0.35661578, 0.58480024, 0.9027157 ,\n",
              "       0.70363975, 0.9455031 , 0.5759568 , 0.32488906, 0.93933237,\n",
              "       0.18535316, 0.9726256 , 0.46691728, 0.6460202 , 0.7892866 ,\n",
              "       0.6747252 , 0.8288157 , 0.05637586, 0.00927389, 0.5812448 ,\n",
              "       0.96447814, 0.7342422 , 0.59657824, 0.876703  , 0.8870752 ,\n",
              "       0.85794044, 0.47055292, 0.28132105, 0.6987431 , 0.0160569 ],\n",
              "      dtype=float32)>"
            ]
          },
          "metadata": {},
          "execution_count": 75
        }
      ]
    },
    {
      "cell_type": "code",
      "source": [
        "# FInd the positional MAX\n",
        "tf.argmax(F)"
      ],
      "metadata": {
        "colab": {
          "base_uri": "https://localhost:8080/"
        },
        "id": "lhV8ynSmJa_5",
        "outputId": "c41a7530-d472-4a57-c9ac-628126f52fb8"
      },
      "execution_count": null,
      "outputs": [
        {
          "output_type": "execute_result",
          "data": {
            "text/plain": [
              "<tf.Tensor: shape=(), dtype=int64, numpy=31>"
            ]
          },
          "metadata": {},
          "execution_count": 76
        }
      ]
    },
    {
      "cell_type": "code",
      "source": [
        "#Index  on our largest value posiiton\n",
        "F[tf.argmax(F)]"
      ],
      "metadata": {
        "colab": {
          "base_uri": "https://localhost:8080/"
        },
        "id": "TV3GNRDgJ5QD",
        "outputId": "2d864064-d02c-4861-98a1-0f754cd71bba"
      },
      "execution_count": null,
      "outputs": [
        {
          "output_type": "execute_result",
          "data": {
            "text/plain": [
              "<tf.Tensor: shape=(), dtype=float32, numpy=0.9726256>"
            ]
          },
          "metadata": {},
          "execution_count": 77
        }
      ]
    },
    {
      "cell_type": "code",
      "source": [
        "# Find the max value\n",
        "tf.reduce_max(F)"
      ],
      "metadata": {
        "colab": {
          "base_uri": "https://localhost:8080/"
        },
        "id": "e8U0MSzbKFVZ",
        "outputId": "39d84bfd-a780-412f-e5e5-8ccbf63835c7"
      },
      "execution_count": null,
      "outputs": [
        {
          "output_type": "execute_result",
          "data": {
            "text/plain": [
              "<tf.Tensor: shape=(), dtype=float32, numpy=0.9726256>"
            ]
          },
          "metadata": {},
          "execution_count": 78
        }
      ]
    },
    {
      "cell_type": "code",
      "source": [
        "# Check the equility\n",
        "# Assert : if they are equal it do not throw any error, otherwise if we do not use it will show \"true/false\"\n",
        "assert F[tf.argmax(F)]==tf.reduce_max(F)"
      ],
      "metadata": {
        "id": "hErb0V_CKQoW"
      },
      "execution_count": null,
      "outputs": []
    },
    {
      "cell_type": "code",
      "source": [
        "# Find the positional minimum\n",
        "tf.argmin(F)"
      ],
      "metadata": {
        "colab": {
          "base_uri": "https://localhost:8080/"
        },
        "id": "AIy-CpMXKpU4",
        "outputId": "02e1798c-636f-401b-dc76-427693bed79c"
      },
      "execution_count": null,
      "outputs": [
        {
          "output_type": "execute_result",
          "data": {
            "text/plain": [
              "<tf.Tensor: shape=(), dtype=int64, numpy=38>"
            ]
          },
          "metadata": {},
          "execution_count": 80
        }
      ]
    },
    {
      "cell_type": "code",
      "source": [
        "F[tf.argmin(F)]"
      ],
      "metadata": {
        "colab": {
          "base_uri": "https://localhost:8080/"
        },
        "id": "gkUs03jaLNLk",
        "outputId": "d1e191cd-04cb-4aeb-8f01-53ce5d9b6727"
      },
      "execution_count": null,
      "outputs": [
        {
          "output_type": "execute_result",
          "data": {
            "text/plain": [
              "<tf.Tensor: shape=(), dtype=float32, numpy=0.009273887>"
            ]
          },
          "metadata": {},
          "execution_count": 81
        }
      ]
    },
    {
      "cell_type": "code",
      "source": [
        "tf.reduce_min(F)"
      ],
      "metadata": {
        "colab": {
          "base_uri": "https://localhost:8080/"
        },
        "id": "H86p0v1WLR2G",
        "outputId": "03549c4b-da9d-4bb1-db62-5d1acbcd09bf"
      },
      "execution_count": null,
      "outputs": [
        {
          "output_type": "execute_result",
          "data": {
            "text/plain": [
              "<tf.Tensor: shape=(), dtype=float32, numpy=0.009273887>"
            ]
          },
          "metadata": {},
          "execution_count": 82
        }
      ]
    },
    {
      "cell_type": "markdown",
      "source": [
        "### Squeezing the tensors (Removing all single dimensions)"
      ],
      "metadata": {
        "id": "GAgl0omNLnsO"
      }
    },
    {
      "cell_type": "code",
      "source": [
        "tf.random.set_seed(77)\n",
        "G=tf.constant(tf.random.uniform(shape=[50]),shape=(1,1,1,1,50))\n",
        "G\n"
      ],
      "metadata": {
        "colab": {
          "base_uri": "https://localhost:8080/"
        },
        "id": "uVJ3CuLiLVUg",
        "outputId": "1f8a5802-ad6f-4bfa-a086-6e41c25f06fb"
      },
      "execution_count": null,
      "outputs": [
        {
          "output_type": "execute_result",
          "data": {
            "text/plain": [
              "<tf.Tensor: shape=(1, 1, 1, 1, 50), dtype=float32, numpy=\n",
              "array([[[[[0.07212555, 0.5266396 , 0.72306037, 0.35061193, 0.8296379 ,\n",
              "           0.11147892, 0.457646  , 0.16073549, 0.84786737, 0.96440816,\n",
              "           0.31061685, 0.10325825, 0.8765378 , 0.7888309 , 0.39391422,\n",
              "           0.464728  , 0.38612247, 0.5357307 , 0.3301475 , 0.22967815,\n",
              "           0.17843282, 0.64866376, 0.35661578, 0.58480024, 0.9027157 ,\n",
              "           0.70363975, 0.9455031 , 0.5759568 , 0.32488906, 0.93933237,\n",
              "           0.18535316, 0.9726256 , 0.46691728, 0.6460202 , 0.7892866 ,\n",
              "           0.6747252 , 0.8288157 , 0.05637586, 0.00927389, 0.5812448 ,\n",
              "           0.96447814, 0.7342422 , 0.59657824, 0.876703  , 0.8870752 ,\n",
              "           0.85794044, 0.47055292, 0.28132105, 0.6987431 , 0.0160569 ]]]]],\n",
              "      dtype=float32)>"
            ]
          },
          "metadata": {},
          "execution_count": 83
        }
      ]
    },
    {
      "cell_type": "code",
      "source": [
        "G_squeezed=tf.squeeze(G)\n",
        "G_squeezed,G_squeezed.shape"
      ],
      "metadata": {
        "colab": {
          "base_uri": "https://localhost:8080/"
        },
        "id": "sJKDLUvlMFM7",
        "outputId": "3bf43f28-8daa-4463-8825-e1b21fc5ba52"
      },
      "execution_count": null,
      "outputs": [
        {
          "output_type": "execute_result",
          "data": {
            "text/plain": [
              "(<tf.Tensor: shape=(50,), dtype=float32, numpy=\n",
              " array([0.07212555, 0.5266396 , 0.72306037, 0.35061193, 0.8296379 ,\n",
              "        0.11147892, 0.457646  , 0.16073549, 0.84786737, 0.96440816,\n",
              "        0.31061685, 0.10325825, 0.8765378 , 0.7888309 , 0.39391422,\n",
              "        0.464728  , 0.38612247, 0.5357307 , 0.3301475 , 0.22967815,\n",
              "        0.17843282, 0.64866376, 0.35661578, 0.58480024, 0.9027157 ,\n",
              "        0.70363975, 0.9455031 , 0.5759568 , 0.32488906, 0.93933237,\n",
              "        0.18535316, 0.9726256 , 0.46691728, 0.6460202 , 0.7892866 ,\n",
              "        0.6747252 , 0.8288157 , 0.05637586, 0.00927389, 0.5812448 ,\n",
              "        0.96447814, 0.7342422 , 0.59657824, 0.876703  , 0.8870752 ,\n",
              "        0.85794044, 0.47055292, 0.28132105, 0.6987431 , 0.0160569 ],\n",
              "       dtype=float32)>,\n",
              " TensorShape([50]))"
            ]
          },
          "metadata": {},
          "execution_count": 84
        }
      ]
    },
    {
      "cell_type": "markdown",
      "source": [
        "### One-Hot Encoding"
      ],
      "metadata": {
        "id": "sGgQfTdOR4fr"
      }
    },
    {
      "cell_type": "code",
      "source": [
        "# Create alist of indices\n",
        "some_list=[0,1,2,3,7]\n",
        "#One hot encoding\n",
        "tf.one_hot(some_list,depth=8)\n"
      ],
      "metadata": {
        "colab": {
          "base_uri": "https://localhost:8080/"
        },
        "id": "nrnFiDIYM4jA",
        "outputId": "7a2c9ae7-5df3-4644-9243-c967b141824e"
      },
      "execution_count": null,
      "outputs": [
        {
          "output_type": "execute_result",
          "data": {
            "text/plain": [
              "<tf.Tensor: shape=(5, 8), dtype=float32, numpy=\n",
              "array([[1., 0., 0., 0., 0., 0., 0., 0.],\n",
              "       [0., 1., 0., 0., 0., 0., 0., 0.],\n",
              "       [0., 0., 1., 0., 0., 0., 0., 0.],\n",
              "       [0., 0., 0., 1., 0., 0., 0., 0.],\n",
              "       [0., 0., 0., 0., 0., 0., 0., 1.]], dtype=float32)>"
            ]
          },
          "metadata": {},
          "execution_count": 85
        }
      ]
    },
    {
      "cell_type": "code",
      "source": [
        "# FUN: Specify custom values for one hot encoding\n",
        "tf.one_hot(some_list,depth=5,on_value=\"darth vader\",off_value=\"anakin skywalker\")"
      ],
      "metadata": {
        "id": "PWnrloeoSPuA",
        "colab": {
          "base_uri": "https://localhost:8080/"
        },
        "outputId": "b4008467-7c92-48a5-f21b-733e4edee2e9"
      },
      "execution_count": null,
      "outputs": [
        {
          "output_type": "execute_result",
          "data": {
            "text/plain": [
              "<tf.Tensor: shape=(5, 5), dtype=string, numpy=\n",
              "array([[b'darth vader', b'anakin skywalker', b'anakin skywalker',\n",
              "        b'anakin skywalker', b'anakin skywalker'],\n",
              "       [b'anakin skywalker', b'darth vader', b'anakin skywalker',\n",
              "        b'anakin skywalker', b'anakin skywalker'],\n",
              "       [b'anakin skywalker', b'anakin skywalker', b'darth vader',\n",
              "        b'anakin skywalker', b'anakin skywalker'],\n",
              "       [b'anakin skywalker', b'anakin skywalker', b'anakin skywalker',\n",
              "        b'darth vader', b'anakin skywalker'],\n",
              "       [b'anakin skywalker', b'anakin skywalker', b'anakin skywalker',\n",
              "        b'anakin skywalker', b'anakin skywalker']], dtype=object)>"
            ]
          },
          "metadata": {},
          "execution_count": 86
        }
      ]
    },
    {
      "cell_type": "markdown",
      "source": [
        "### Square , log, square root"
      ],
      "metadata": {
        "id": "BUc_egNNQMnH"
      }
    },
    {
      "cell_type": "code",
      "source": [
        "# Create a tensor\n",
        "H=tf.constant(np.arange(1,10),shape=(3,3))\n",
        "H"
      ],
      "metadata": {
        "id": "XHq6rs4LZ2MD",
        "colab": {
          "base_uri": "https://localhost:8080/"
        },
        "outputId": "43869292-9328-479a-ac85-94b33756b0cf"
      },
      "execution_count": null,
      "outputs": [
        {
          "output_type": "execute_result",
          "data": {
            "text/plain": [
              "<tf.Tensor: shape=(3, 3), dtype=int64, numpy=\n",
              "array([[1, 2, 3],\n",
              "       [4, 5, 6],\n",
              "       [7, 8, 9]])>"
            ]
          },
          "metadata": {},
          "execution_count": 87
        }
      ]
    },
    {
      "cell_type": "code",
      "source": [
        "# Find the Square of the tensor\n",
        "tf.square(H)"
      ],
      "metadata": {
        "colab": {
          "base_uri": "https://localhost:8080/"
        },
        "id": "yguVqhm8Qog2",
        "outputId": "7b66e76c-509c-48c5-ff2d-6a3ff68b39e2"
      },
      "execution_count": null,
      "outputs": [
        {
          "output_type": "execute_result",
          "data": {
            "text/plain": [
              "<tf.Tensor: shape=(3, 3), dtype=int64, numpy=\n",
              "array([[ 1,  4,  9],\n",
              "       [16, 25, 36],\n",
              "       [49, 64, 81]])>"
            ]
          },
          "metadata": {},
          "execution_count": 88
        }
      ]
    },
    {
      "cell_type": "code",
      "source": [
        "# find the square root\n",
        "tf.sqrt(tf.cast(H,dtype=tf.float32))"
      ],
      "metadata": {
        "colab": {
          "base_uri": "https://localhost:8080/"
        },
        "id": "u4qdf9JiQzJ9",
        "outputId": "36f6cba4-9c2a-4667-f391-e2365ea4ee5a"
      },
      "execution_count": null,
      "outputs": [
        {
          "output_type": "execute_result",
          "data": {
            "text/plain": [
              "<tf.Tensor: shape=(3, 3), dtype=float32, numpy=\n",
              "array([[1.       , 1.4142135, 1.7320508],\n",
              "       [2.       , 2.236068 , 2.4494898],\n",
              "       [2.6457512, 2.828427 , 3.       ]], dtype=float32)>"
            ]
          },
          "metadata": {},
          "execution_count": 90
        }
      ]
    },
    {
      "cell_type": "code",
      "source": [
        "tf.math.log(tf.cast(H,dtype=tf.float32))"
      ],
      "metadata": {
        "colab": {
          "base_uri": "https://localhost:8080/"
        },
        "id": "coQQcNWdRNOy",
        "outputId": "a82ef3d8-11e0-48a1-f728-63c7dd69ea9e"
      },
      "execution_count": null,
      "outputs": [
        {
          "output_type": "execute_result",
          "data": {
            "text/plain": [
              "<tf.Tensor: shape=(3, 3), dtype=float32, numpy=\n",
              "array([[0.       , 0.6931472, 1.0986123],\n",
              "       [1.3862944, 1.609438 , 1.7917595],\n",
              "       [1.9459102, 2.0794415, 2.1972246]], dtype=float32)>"
            ]
          },
          "metadata": {},
          "execution_count": 91
        }
      ]
    },
    {
      "cell_type": "markdown",
      "source": [
        "### Tesors and Numpy\n",
        "Tensors interacts beautifuly with numpy\n",
        "\n",
        "🔑**Note:** One of the main difference between a tensorflow tensor and numpy array is that the tensor is faster because it can run on the GPU or TPU"
      ],
      "metadata": {
        "id": "cZRc96W4SSbr"
      }
    },
    {
      "cell_type": "code",
      "source": [
        "# create a tensor directly from numpy array\n",
        "J=tf.constant(np.array([3.,4.,5.]))\n",
        "J"
      ],
      "metadata": {
        "colab": {
          "base_uri": "https://localhost:8080/"
        },
        "id": "kMtXvmXRRvVZ",
        "outputId": "b87a9b22-784e-473a-c2b3-a9910444366b"
      },
      "execution_count": null,
      "outputs": [
        {
          "output_type": "execute_result",
          "data": {
            "text/plain": [
              "<tf.Tensor: shape=(3,), dtype=float64, numpy=array([3., 4., 5.])>"
            ]
          },
          "metadata": {},
          "execution_count": 92
        }
      ]
    },
    {
      "cell_type": "code",
      "source": [
        "# Convert tensor into numpy\n",
        "np.array(J),type(np.array(J))"
      ],
      "metadata": {
        "colab": {
          "base_uri": "https://localhost:8080/"
        },
        "id": "FcBPExQkSvUs",
        "outputId": "778a5d27-903e-490b-d000-adfc53904a4b"
      },
      "execution_count": null,
      "outputs": [
        {
          "output_type": "execute_result",
          "data": {
            "text/plain": [
              "(array([3., 4., 5.]), numpy.ndarray)"
            ]
          },
          "metadata": {},
          "execution_count": 93
        }
      ]
    },
    {
      "cell_type": "code",
      "source": [
        "# Convert tensor J to numpy array\n",
        "J.numpy(),type(J.numpy())"
      ],
      "metadata": {
        "colab": {
          "base_uri": "https://localhost:8080/"
        },
        "id": "Ko45fR-tTAC2",
        "outputId": "dc226561-e12f-4657-8940-81011b124b2f"
      },
      "execution_count": null,
      "outputs": [
        {
          "output_type": "execute_result",
          "data": {
            "text/plain": [
              "(array([3., 4., 5.]), numpy.ndarray)"
            ]
          },
          "metadata": {},
          "execution_count": 95
        }
      ]
    },
    {
      "cell_type": "code",
      "source": [
        "# Default types of each are slightly different\n",
        "numpy_J=tf.constant(np.array([3.,4.4,5.5]))\n",
        "tensor_J=tf.constant([3.4,3.4,6.6])\n",
        "# check the datatype\n",
        "numpy_J.dtype,tensor_J.dtype"
      ],
      "metadata": {
        "colab": {
          "base_uri": "https://localhost:8080/"
        },
        "id": "DUSUoHB2Th16",
        "outputId": "2c180d4e-d365-46ab-b2db-96bb24a3f041"
      },
      "execution_count": null,
      "outputs": [
        {
          "output_type": "execute_result",
          "data": {
            "text/plain": [
              "(tf.float64, tf.float32)"
            ]
          },
          "metadata": {},
          "execution_count": 99
        }
      ]
    },
    {
      "cell_type": "markdown",
      "source": [
        "### Finding Access to GPUs"
      ],
      "metadata": {
        "id": "7_sq0bClWeIS"
      }
    },
    {
      "cell_type": "code",
      "source": [
        "import tensorflow as tf\n",
        "tf.config.list_physical_devices()\n"
      ],
      "metadata": {
        "colab": {
          "base_uri": "https://localhost:8080/"
        },
        "id": "dh7XalO_U_gy",
        "outputId": "e1e452a2-d7b0-4544-8fd4-b356013caedb"
      },
      "execution_count": null,
      "outputs": [
        {
          "output_type": "execute_result",
          "data": {
            "text/plain": [
              "[PhysicalDevice(name='/physical_device:CPU:0', device_type='CPU'),\n",
              " PhysicalDevice(name='/physical_device:GPU:0', device_type='GPU')]"
            ]
          },
          "metadata": {},
          "execution_count": 2
        }
      ]
    },
    {
      "cell_type": "code",
      "source": [
        "tf.config.list_logical_devices(\"GPU\")"
      ],
      "metadata": {
        "colab": {
          "base_uri": "https://localhost:8080/"
        },
        "id": "SbjwxsQPWnBP",
        "outputId": "7f0e7eaa-77e7-40ab-e759-c199d5a1f0ab"
      },
      "execution_count": null,
      "outputs": [
        {
          "output_type": "execute_result",
          "data": {
            "text/plain": [
              "[LogicalDevice(name='/device:GPU:0', device_type='GPU')]"
            ]
          },
          "metadata": {},
          "execution_count": 3
        }
      ]
    },
    {
      "cell_type": "code",
      "source": [
        "!nvidia-smi"
      ],
      "metadata": {
        "colab": {
          "base_uri": "https://localhost:8080/"
        },
        "id": "mLCrM48sX4n0",
        "outputId": "ec1ad485-c67e-45cd-ca58-a4a352f212bb"
      },
      "execution_count": null,
      "outputs": [
        {
          "output_type": "stream",
          "name": "stdout",
          "text": [
            "Sat Sep  7 16:44:57 2024       \n",
            "+---------------------------------------------------------------------------------------+\n",
            "| NVIDIA-SMI 535.104.05             Driver Version: 535.104.05   CUDA Version: 12.2     |\n",
            "|-----------------------------------------+----------------------+----------------------+\n",
            "| GPU  Name                 Persistence-M | Bus-Id        Disp.A | Volatile Uncorr. ECC |\n",
            "| Fan  Temp   Perf          Pwr:Usage/Cap |         Memory-Usage | GPU-Util  Compute M. |\n",
            "|                                         |                      |               MIG M. |\n",
            "|=========================================+======================+======================|\n",
            "|   0  Tesla T4                       Off | 00000000:00:04.0 Off |                    0 |\n",
            "| N/A   60C    P0              30W /  70W |    103MiB / 15360MiB |      0%      Default |\n",
            "|                                         |                      |                  N/A |\n",
            "+-----------------------------------------+----------------------+----------------------+\n",
            "                                                                                         \n",
            "+---------------------------------------------------------------------------------------+\n",
            "| Processes:                                                                            |\n",
            "|  GPU   GI   CI        PID   Type   Process name                            GPU Memory |\n",
            "|        ID   ID                                                             Usage      |\n",
            "|=======================================================================================|\n",
            "+---------------------------------------------------------------------------------------+\n"
          ]
        }
      ]
    },
    {
      "cell_type": "markdown",
      "source": [
        "🔑**Note**: If you have access to CUDA-enabled GPU, Tensorflow will automatically use it whenever it is possible"
      ],
      "metadata": {
        "id": "9Sk2uulAYfTa"
      }
    },
    {
      "cell_type": "code",
      "source": [],
      "metadata": {
        "id": "D-Fj8XLUX91g"
      },
      "execution_count": null,
      "outputs": []
    }
  ]
}